{
 "cells": [
  {
   "cell_type": "markdown",
   "metadata": {},
   "source": [
    "# XGBoost"
   ]
  },
  {
   "cell_type": "code",
   "execution_count": 1,
   "metadata": {},
   "outputs": [],
   "source": [
    "import pandas as pd\n",
    "import numpy as np\n",
    "import time, re, string\n",
    "from sklearn.preprocessing import OneHotEncoder\n",
    "\n",
    "from tqdm import tqdm_notebook as tqdm\n",
    "from sklearn.feature_extraction.text import CountVectorizer, TfidfVectorizer\n",
    "from scipy.sparse import hstack"
   ]
  },
  {
   "cell_type": "markdown",
   "metadata": {},
   "source": [
    "## Load Train and Test Data with Derived Features"
   ]
  },
  {
   "cell_type": "code",
   "execution_count": 3,
   "metadata": {
    "scrolled": true
   },
   "outputs": [
    {
     "data": {
      "text/html": [
       "<div>\n",
       "<style scoped>\n",
       "    .dataframe tbody tr th:only-of-type {\n",
       "        vertical-align: middle;\n",
       "    }\n",
       "\n",
       "    .dataframe tbody tr th {\n",
       "        vertical-align: top;\n",
       "    }\n",
       "\n",
       "    .dataframe thead th {\n",
       "        text-align: right;\n",
       "    }\n",
       "</style>\n",
       "<table border=\"1\" class=\"dataframe\">\n",
       "  <thead>\n",
       "    <tr style=\"text-align: right;\">\n",
       "      <th></th>\n",
       "      <th>user_id</th>\n",
       "      <th>is_open</th>\n",
       "      <th>is_click</th>\n",
       "      <th>date</th>\n",
       "      <th>month</th>\n",
       "      <th>hour</th>\n",
       "      <th>mins</th>\n",
       "      <th>communication_type</th>\n",
       "      <th>total_links</th>\n",
       "      <th>no_of_internal_links</th>\n",
       "      <th>no_of_images</th>\n",
       "      <th>no_of_sections</th>\n",
       "      <th>count_sent</th>\n",
       "      <th>count_word</th>\n",
       "      <th>count_unique_word</th>\n",
       "      <th>count_letters</th>\n",
       "      <th>count_punctuations</th>\n",
       "      <th>count_stopwords</th>\n",
       "      <th>mean_word_len</th>\n",
       "      <th>word_unique_percent</th>\n",
       "      <th>punct_percent</th>\n",
       "      <th>email_count_word</th>\n",
       "      <th>email_count_unique_word</th>\n",
       "      <th>email_count_letters</th>\n",
       "      <th>email_count_punctuations</th>\n",
       "      <th>email_cap_count</th>\n",
       "      <th>day_of_week</th>\n",
       "      <th>count_click</th>\n",
       "      <th>count_user</th>\n",
       "      <th>click_confidence</th>\n",
       "      <th>count_is_open</th>\n",
       "      <th>is_open_confidence</th>\n",
       "      <th>email_3_similar</th>\n",
       "      <th>sub_3_similar</th>\n",
       "      <th>campaign_id</th>\n",
       "      <th>sub_period</th>\n",
       "      <th>comm_type_click_percent</th>\n",
       "      <th>body_polarity</th>\n",
       "      <th>title_polarity</th>\n",
       "      <th>body_subjectivity</th>\n",
       "      <th>title_subjectivity</th>\n",
       "    </tr>\n",
       "  </thead>\n",
       "  <tbody>\n",
       "    <tr>\n",
       "      <th>0</th>\n",
       "      <td>14051</td>\n",
       "      <td>0</td>\n",
       "      <td>0</td>\n",
       "      <td>1</td>\n",
       "      <td>9</td>\n",
       "      <td>19</td>\n",
       "      <td>55</td>\n",
       "      <td>3</td>\n",
       "      <td>88.0</td>\n",
       "      <td>79.0</td>\n",
       "      <td>13.0</td>\n",
       "      <td>4.0</td>\n",
       "      <td>1.0</td>\n",
       "      <td>12.0</td>\n",
       "      <td>12.0</td>\n",
       "      <td>88.0</td>\n",
       "      <td>5.0</td>\n",
       "      <td>2.0</td>\n",
       "      <td>6.416667</td>\n",
       "      <td>100.0</td>\n",
       "      <td>41.666667</td>\n",
       "      <td>238.0</td>\n",
       "      <td>159.0</td>\n",
       "      <td>1382.0</td>\n",
       "      <td>37.0</td>\n",
       "      <td>58.0</td>\n",
       "      <td>4</td>\n",
       "      <td>0.0</td>\n",
       "      <td>9.0</td>\n",
       "      <td>0.0</td>\n",
       "      <td>0.0</td>\n",
       "      <td>0.0</td>\n",
       "      <td>0.0</td>\n",
       "      <td>2.0</td>\n",
       "      <td>42</td>\n",
       "      <td>247</td>\n",
       "      <td>12.70333</td>\n",
       "      <td>0.278346</td>\n",
       "      <td>0.462500</td>\n",
       "      <td>0.644388</td>\n",
       "      <td>0.650000</td>\n",
       "    </tr>\n",
       "    <tr>\n",
       "      <th>1</th>\n",
       "      <td>134438</td>\n",
       "      <td>0</td>\n",
       "      <td>0</td>\n",
       "      <td>2</td>\n",
       "      <td>11</td>\n",
       "      <td>12</td>\n",
       "      <td>53</td>\n",
       "      <td>3</td>\n",
       "      <td>67.0</td>\n",
       "      <td>62.0</td>\n",
       "      <td>10.0</td>\n",
       "      <td>4.0</td>\n",
       "      <td>1.0</td>\n",
       "      <td>16.0</td>\n",
       "      <td>16.0</td>\n",
       "      <td>111.0</td>\n",
       "      <td>5.0</td>\n",
       "      <td>3.0</td>\n",
       "      <td>6.000000</td>\n",
       "      <td>100.0</td>\n",
       "      <td>31.250000</td>\n",
       "      <td>166.0</td>\n",
       "      <td>122.0</td>\n",
       "      <td>971.0</td>\n",
       "      <td>24.0</td>\n",
       "      <td>48.0</td>\n",
       "      <td>3</td>\n",
       "      <td>0.0</td>\n",
       "      <td>4.0</td>\n",
       "      <td>0.0</td>\n",
       "      <td>0.0</td>\n",
       "      <td>0.0</td>\n",
       "      <td>1.0</td>\n",
       "      <td>2.0</td>\n",
       "      <td>52</td>\n",
       "      <td>150</td>\n",
       "      <td>12.70333</td>\n",
       "      <td>0.071053</td>\n",
       "      <td>0.170455</td>\n",
       "      <td>0.376754</td>\n",
       "      <td>0.454545</td>\n",
       "    </tr>\n",
       "    <tr>\n",
       "      <th>2</th>\n",
       "      <td>181789</td>\n",
       "      <td>0</td>\n",
       "      <td>0</td>\n",
       "      <td>24</td>\n",
       "      <td>7</td>\n",
       "      <td>15</td>\n",
       "      <td>15</td>\n",
       "      <td>4</td>\n",
       "      <td>7.0</td>\n",
       "      <td>3.0</td>\n",
       "      <td>1.0</td>\n",
       "      <td>1.0</td>\n",
       "      <td>1.0</td>\n",
       "      <td>12.0</td>\n",
       "      <td>12.0</td>\n",
       "      <td>71.0</td>\n",
       "      <td>3.0</td>\n",
       "      <td>1.0</td>\n",
       "      <td>5.000000</td>\n",
       "      <td>100.0</td>\n",
       "      <td>25.000000</td>\n",
       "      <td>118.0</td>\n",
       "      <td>92.0</td>\n",
       "      <td>739.0</td>\n",
       "      <td>28.0</td>\n",
       "      <td>42.0</td>\n",
       "      <td>0</td>\n",
       "      <td>0.0</td>\n",
       "      <td>7.0</td>\n",
       "      <td>0.0</td>\n",
       "      <td>0.0</td>\n",
       "      <td>0.0</td>\n",
       "      <td>1.0</td>\n",
       "      <td>1.0</td>\n",
       "      <td>33</td>\n",
       "      <td>249</td>\n",
       "      <td>14.27746</td>\n",
       "      <td>0.408333</td>\n",
       "      <td>0.000000</td>\n",
       "      <td>0.579365</td>\n",
       "      <td>0.000000</td>\n",
       "    </tr>\n",
       "    <tr>\n",
       "      <th>3</th>\n",
       "      <td>231448</td>\n",
       "      <td>0</td>\n",
       "      <td>0</td>\n",
       "      <td>5</td>\n",
       "      <td>9</td>\n",
       "      <td>11</td>\n",
       "      <td>36</td>\n",
       "      <td>5</td>\n",
       "      <td>60.0</td>\n",
       "      <td>56.0</td>\n",
       "      <td>19.0</td>\n",
       "      <td>6.0</td>\n",
       "      <td>1.0</td>\n",
       "      <td>10.0</td>\n",
       "      <td>10.0</td>\n",
       "      <td>73.0</td>\n",
       "      <td>3.0</td>\n",
       "      <td>2.0</td>\n",
       "      <td>6.400000</td>\n",
       "      <td>100.0</td>\n",
       "      <td>30.000000</td>\n",
       "      <td>43.0</td>\n",
       "      <td>38.0</td>\n",
       "      <td>273.0</td>\n",
       "      <td>9.0</td>\n",
       "      <td>9.0</td>\n",
       "      <td>1</td>\n",
       "      <td>0.0</td>\n",
       "      <td>6.0</td>\n",
       "      <td>0.0</td>\n",
       "      <td>0.0</td>\n",
       "      <td>0.0</td>\n",
       "      <td>1.0</td>\n",
       "      <td>1.0</td>\n",
       "      <td>44</td>\n",
       "      <td>216</td>\n",
       "      <td>13.02976</td>\n",
       "      <td>0.166667</td>\n",
       "      <td>0.000000</td>\n",
       "      <td>0.766667</td>\n",
       "      <td>0.000000</td>\n",
       "    </tr>\n",
       "    <tr>\n",
       "      <th>4</th>\n",
       "      <td>185580</td>\n",
       "      <td>0</td>\n",
       "      <td>0</td>\n",
       "      <td>1</td>\n",
       "      <td>7</td>\n",
       "      <td>18</td>\n",
       "      <td>1</td>\n",
       "      <td>3</td>\n",
       "      <td>67.0</td>\n",
       "      <td>61.0</td>\n",
       "      <td>12.0</td>\n",
       "      <td>3.0</td>\n",
       "      <td>1.0</td>\n",
       "      <td>11.0</td>\n",
       "      <td>11.0</td>\n",
       "      <td>55.0</td>\n",
       "      <td>2.0</td>\n",
       "      <td>3.0</td>\n",
       "      <td>4.090909</td>\n",
       "      <td>100.0</td>\n",
       "      <td>18.181818</td>\n",
       "      <td>243.0</td>\n",
       "      <td>176.0</td>\n",
       "      <td>1498.0</td>\n",
       "      <td>37.0</td>\n",
       "      <td>35.0</td>\n",
       "      <td>5</td>\n",
       "      <td>0.0</td>\n",
       "      <td>5.0</td>\n",
       "      <td>0.0</td>\n",
       "      <td>0.0</td>\n",
       "      <td>0.0</td>\n",
       "      <td>0.0</td>\n",
       "      <td>1.0</td>\n",
       "      <td>29</td>\n",
       "      <td>220</td>\n",
       "      <td>12.70333</td>\n",
       "      <td>0.390083</td>\n",
       "      <td>0.000000</td>\n",
       "      <td>0.588671</td>\n",
       "      <td>0.000000</td>\n",
       "    </tr>\n",
       "  </tbody>\n",
       "</table>\n",
       "</div>"
      ],
      "text/plain": [
       "   user_id  is_open  is_click  date  month  hour  mins  communication_type  \\\n",
       "0    14051        0         0     1      9    19    55                   3   \n",
       "1   134438        0         0     2     11    12    53                   3   \n",
       "2   181789        0         0    24      7    15    15                   4   \n",
       "3   231448        0         0     5      9    11    36                   5   \n",
       "4   185580        0         0     1      7    18     1                   3   \n",
       "\n",
       "   total_links  no_of_internal_links  no_of_images  no_of_sections  \\\n",
       "0         88.0                  79.0          13.0             4.0   \n",
       "1         67.0                  62.0          10.0             4.0   \n",
       "2          7.0                   3.0           1.0             1.0   \n",
       "3         60.0                  56.0          19.0             6.0   \n",
       "4         67.0                  61.0          12.0             3.0   \n",
       "\n",
       "   count_sent  count_word  count_unique_word  count_letters  \\\n",
       "0         1.0        12.0               12.0           88.0   \n",
       "1         1.0        16.0               16.0          111.0   \n",
       "2         1.0        12.0               12.0           71.0   \n",
       "3         1.0        10.0               10.0           73.0   \n",
       "4         1.0        11.0               11.0           55.0   \n",
       "\n",
       "   count_punctuations  count_stopwords  mean_word_len  word_unique_percent  \\\n",
       "0                 5.0              2.0       6.416667                100.0   \n",
       "1                 5.0              3.0       6.000000                100.0   \n",
       "2                 3.0              1.0       5.000000                100.0   \n",
       "3                 3.0              2.0       6.400000                100.0   \n",
       "4                 2.0              3.0       4.090909                100.0   \n",
       "\n",
       "   punct_percent  email_count_word  email_count_unique_word  \\\n",
       "0      41.666667             238.0                    159.0   \n",
       "1      31.250000             166.0                    122.0   \n",
       "2      25.000000             118.0                     92.0   \n",
       "3      30.000000              43.0                     38.0   \n",
       "4      18.181818             243.0                    176.0   \n",
       "\n",
       "   email_count_letters  email_count_punctuations  email_cap_count  \\\n",
       "0               1382.0                      37.0             58.0   \n",
       "1                971.0                      24.0             48.0   \n",
       "2                739.0                      28.0             42.0   \n",
       "3                273.0                       9.0              9.0   \n",
       "4               1498.0                      37.0             35.0   \n",
       "\n",
       "   day_of_week  count_click  count_user  click_confidence  count_is_open  \\\n",
       "0            4          0.0         9.0               0.0            0.0   \n",
       "1            3          0.0         4.0               0.0            0.0   \n",
       "2            0          0.0         7.0               0.0            0.0   \n",
       "3            1          0.0         6.0               0.0            0.0   \n",
       "4            5          0.0         5.0               0.0            0.0   \n",
       "\n",
       "   is_open_confidence  email_3_similar  sub_3_similar  campaign_id  \\\n",
       "0                 0.0              0.0            2.0           42   \n",
       "1                 0.0              1.0            2.0           52   \n",
       "2                 0.0              1.0            1.0           33   \n",
       "3                 0.0              1.0            1.0           44   \n",
       "4                 0.0              0.0            1.0           29   \n",
       "\n",
       "   sub_period  comm_type_click_percent  body_polarity  title_polarity  \\\n",
       "0         247                 12.70333       0.278346        0.462500   \n",
       "1         150                 12.70333       0.071053        0.170455   \n",
       "2         249                 14.27746       0.408333        0.000000   \n",
       "3         216                 13.02976       0.166667        0.000000   \n",
       "4         220                 12.70333       0.390083        0.000000   \n",
       "\n",
       "   body_subjectivity  title_subjectivity  \n",
       "0           0.644388            0.650000  \n",
       "1           0.376754            0.454545  \n",
       "2           0.579365            0.000000  \n",
       "3           0.766667            0.000000  \n",
       "4           0.588671            0.000000  "
      ]
     },
     "execution_count": 3,
     "metadata": {},
     "output_type": "execute_result"
    }
   ],
   "source": [
    "pd.options.display.max_columns = 100\n",
    "\n",
    "train = pd.read_csv('input/train_featv3.csv')\n",
    "test = pd.read_csv('input/test_featv3.csv')\n",
    "train.head()"
   ]
  },
  {
   "cell_type": "code",
   "execution_count": 3,
   "metadata": {},
   "outputs": [
    {
     "data": {
      "text/plain": [
       "Index(['user_id', 'is_open', 'is_click', 'date', 'month', 'hour', 'mins',\n",
       "       'communication_type', 'total_links', 'no_of_internal_links',\n",
       "       'no_of_images', 'no_of_sections', 'email_url', 'count_sent',\n",
       "       'count_word', 'count_unique_word', 'count_letters',\n",
       "       'count_punctuations', 'count_stopwords', 'mean_word_len',\n",
       "       'word_unique_percent', 'punct_percent', 'email_count_word',\n",
       "       'email_count_unique_word', 'email_count_letters',\n",
       "       'email_count_punctuations', 'email_cap_count', 'day_of_week',\n",
       "       'count_click', 'count_user', 'click_confidence', 'count_is_open',\n",
       "       'is_open_confidence', 'body_polarity', 'title_polarity',\n",
       "       'body_subjectivity', 'title_subjectivity', 'bkunal_jain', 'smeetups',\n",
       "       'slive', 'shackathon', 'shire', 'swin', 'stop', 'user_mail_no'],\n",
       "      dtype='object')"
      ]
     },
     "execution_count": 3,
     "metadata": {},
     "output_type": "execute_result"
    }
   ],
   "source": [
    "train.columns"
   ]
  },
  {
   "cell_type": "markdown",
   "metadata": {},
   "source": [
    "## Feature Engineering"
   ]
  },
  {
   "cell_type": "markdown",
   "metadata": {},
   "source": [
    "- Date \n",
    "- Time (in minutes)\n",
    "- Day of Week\n",
    "- Communication Type\n",
    "- Total Links\n",
    "- No of Internal Links, No of Images\n",
    "- Subject - Count of Sentences, Letters, Punctuations and Stopwords\n",
    "- Subject - Unique Word Percentage\n",
    "- Subject - Punctuation Percentage\n",
    "- Email - Count of Word, Punctuation and Capital Letters\n",
    "- Count Click\n",
    "- Count User\n",
    "- Click Confidence\n",
    "- Count of People Opening the Mail\n",
    "- Open Confidence\n",
    "- Email Similarity, Subject Similarity\n",
    "- Subscription Period\n",
    "- Communication Type Click Percentage\n",
    "- Count User Frequency\n",
    "- Sentiment of Mail"
   ]
  },
  {
   "cell_type": "code",
   "execution_count": 4,
   "metadata": {},
   "outputs": [],
   "source": [
    "train['time'] = train['hour']*60 + train['mins']\n",
    "test['time'] = test['hour']*60 + test['mins']"
   ]
  },
  {
   "cell_type": "code",
   "execution_count": 5,
   "metadata": {},
   "outputs": [],
   "source": [
    "### removed month ####"
   ]
  },
  {
   "cell_type": "code",
   "execution_count": 6,
   "metadata": {},
   "outputs": [],
   "source": [
    "Y_train = train['is_click'].values\n",
    "\n",
    "cols = ['user_id', 'date', 'time', 'communication_type', 'total_links',  \n",
    "        'no_of_internal_links', 'no_of_images', 'count_sent', 'count_letters', 'count_punctuations', \n",
    "        'count_stopwords', 'word_unique_percent', 'punct_percent', 'email_count_word', \n",
    "        'email_count_unique_word', 'email_count_punctuations', 'email_cap_count', 'day_of_week', \n",
    "        'count_click', 'count_user', 'click_confidence','count_is_open','is_open_confidence',\n",
    "        'body_polarity', 'title_polarity','body_subjectivity', 'title_subjectivity']\n",
    "\n",
    "\n",
    "X_train = train[cols]\n",
    "X_test = test[cols]"
   ]
  },
  {
   "cell_type": "code",
   "execution_count": 7,
   "metadata": {},
   "outputs": [
    {
     "data": {
      "text/plain": [
       "user_id                          0\n",
       "date                             0\n",
       "time                             0\n",
       "communication_type               0\n",
       "total_links                      0\n",
       "no_of_internal_links             0\n",
       "no_of_images                     0\n",
       "count_sent                       0\n",
       "count_letters                    0\n",
       "count_punctuations               0\n",
       "count_stopwords                  0\n",
       "word_unique_percent              0\n",
       "punct_percent                    0\n",
       "email_count_word                 0\n",
       "email_count_unique_word          0\n",
       "email_count_punctuations         0\n",
       "email_cap_count                  0\n",
       "day_of_week                      0\n",
       "count_click                      0\n",
       "count_user                       0\n",
       "click_confidence            151889\n",
       "count_is_open                    0\n",
       "is_open_confidence          151889\n",
       "body_polarity                    0\n",
       "title_polarity                   0\n",
       "body_subjectivity                0\n",
       "title_subjectivity               0\n",
       "dtype: int64"
      ]
     },
     "execution_count": 7,
     "metadata": {},
     "output_type": "execute_result"
    }
   ],
   "source": [
    "X_test.isnull().sum()"
   ]
  },
  {
   "cell_type": "markdown",
   "metadata": {},
   "source": [
    "### Fill NaN values with mean "
   ]
  },
  {
   "cell_type": "code",
   "execution_count": 8,
   "metadata": {},
   "outputs": [],
   "source": [
    "import warnings\n",
    "warnings.filterwarnings('ignore')\n",
    "\n",
    "## filled new user with click confidence of mean of first users ###\n",
    "X_test['click_confidence'] = X_test['click_confidence'].fillna(0.0072169867589168555)\n",
    "X_test['is_open_confidence'] = X_test['is_open_confidence'].fillna(0.10831444590242156)\n",
    "X_test.loc[X_test['count_user'] == 0,'count_click'] = 0.0072169867589168555\n",
    "X_test.loc[X_test['count_user'] == 0,'count_is_open'] = 0.10831444590242156\n",
    "X_test.loc[X_test['count_user'] == 0,'count_user'] = 1"
   ]
  },
  {
   "cell_type": "code",
   "execution_count": 9,
   "metadata": {},
   "outputs": [],
   "source": [
    "X_train.loc[:,'count_user_freq'] = (1/X_train.loc[:,'count_user'])\n",
    "X_test.loc[:,'count_user_freq'] = (1/X_test.loc[:,'count_user'])"
   ]
  },
  {
   "cell_type": "markdown",
   "metadata": {},
   "source": [
    "### Calculate Sentiment Score from Polarity and Subjectivity Scores"
   ]
  },
  {
   "cell_type": "code",
   "execution_count": 10,
   "metadata": {},
   "outputs": [],
   "source": [
    "dropcols = ['body_polarity', 'title_polarity','body_subjectivity', 'title_subjectivity']\n",
    "X_train.loc[:,'sentiment'] = X_train.loc[:,'body_polarity'] + X_train.loc[:,'title_polarity'] + X_train.loc[:,'body_subjectivity'] + X_train.loc[:,'title_subjectivity']\n",
    "X_test.loc[:,'sentiment'] = X_test.loc[:,'body_polarity'] + X_test.loc[:,'title_polarity'] + X_test.loc[:,'body_subjectivity'] + X_test.loc[:,'title_subjectivity']\n",
    "X_train.drop(dropcols,axis=1,inplace=True)\n",
    "X_test.drop(dropcols,axis=1,inplace=True)"
   ]
  },
  {
   "cell_type": "code",
   "execution_count": 11,
   "metadata": {},
   "outputs": [
    {
     "data": {
      "text/html": [
       "<div>\n",
       "<style scoped>\n",
       "    .dataframe tbody tr th:only-of-type {\n",
       "        vertical-align: middle;\n",
       "    }\n",
       "\n",
       "    .dataframe tbody tr th {\n",
       "        vertical-align: top;\n",
       "    }\n",
       "\n",
       "    .dataframe thead th {\n",
       "        text-align: right;\n",
       "    }\n",
       "</style>\n",
       "<table border=\"1\" class=\"dataframe\">\n",
       "  <thead>\n",
       "    <tr style=\"text-align: right;\">\n",
       "      <th></th>\n",
       "      <th>user_id</th>\n",
       "      <th>date</th>\n",
       "      <th>time</th>\n",
       "      <th>communication_type</th>\n",
       "      <th>total_links</th>\n",
       "      <th>no_of_internal_links</th>\n",
       "      <th>no_of_images</th>\n",
       "      <th>count_sent</th>\n",
       "      <th>count_letters</th>\n",
       "      <th>count_punctuations</th>\n",
       "      <th>count_stopwords</th>\n",
       "      <th>word_unique_percent</th>\n",
       "      <th>punct_percent</th>\n",
       "      <th>email_count_word</th>\n",
       "      <th>email_count_unique_word</th>\n",
       "      <th>email_count_punctuations</th>\n",
       "      <th>email_cap_count</th>\n",
       "      <th>day_of_week</th>\n",
       "      <th>count_click</th>\n",
       "      <th>count_user</th>\n",
       "      <th>click_confidence</th>\n",
       "      <th>count_is_open</th>\n",
       "      <th>is_open_confidence</th>\n",
       "      <th>count_user_freq</th>\n",
       "      <th>sentiment</th>\n",
       "    </tr>\n",
       "  </thead>\n",
       "  <tbody>\n",
       "    <tr>\n",
       "      <th>0</th>\n",
       "      <td>14051</td>\n",
       "      <td>1</td>\n",
       "      <td>1195</td>\n",
       "      <td>3</td>\n",
       "      <td>88.0</td>\n",
       "      <td>79.0</td>\n",
       "      <td>13.0</td>\n",
       "      <td>1.0</td>\n",
       "      <td>88.0</td>\n",
       "      <td>5.0</td>\n",
       "      <td>2.0</td>\n",
       "      <td>100.0</td>\n",
       "      <td>41.666667</td>\n",
       "      <td>238.0</td>\n",
       "      <td>159.0</td>\n",
       "      <td>37.0</td>\n",
       "      <td>58.0</td>\n",
       "      <td>4</td>\n",
       "      <td>0.0</td>\n",
       "      <td>9.0</td>\n",
       "      <td>0.0</td>\n",
       "      <td>0.0</td>\n",
       "      <td>0.0</td>\n",
       "      <td>0.111111</td>\n",
       "      <td>2.035234</td>\n",
       "    </tr>\n",
       "    <tr>\n",
       "      <th>1</th>\n",
       "      <td>134438</td>\n",
       "      <td>2</td>\n",
       "      <td>773</td>\n",
       "      <td>3</td>\n",
       "      <td>67.0</td>\n",
       "      <td>62.0</td>\n",
       "      <td>10.0</td>\n",
       "      <td>1.0</td>\n",
       "      <td>111.0</td>\n",
       "      <td>5.0</td>\n",
       "      <td>3.0</td>\n",
       "      <td>100.0</td>\n",
       "      <td>31.250000</td>\n",
       "      <td>166.0</td>\n",
       "      <td>122.0</td>\n",
       "      <td>24.0</td>\n",
       "      <td>48.0</td>\n",
       "      <td>3</td>\n",
       "      <td>0.0</td>\n",
       "      <td>4.0</td>\n",
       "      <td>0.0</td>\n",
       "      <td>0.0</td>\n",
       "      <td>0.0</td>\n",
       "      <td>0.250000</td>\n",
       "      <td>1.072807</td>\n",
       "    </tr>\n",
       "    <tr>\n",
       "      <th>2</th>\n",
       "      <td>181789</td>\n",
       "      <td>24</td>\n",
       "      <td>915</td>\n",
       "      <td>4</td>\n",
       "      <td>7.0</td>\n",
       "      <td>3.0</td>\n",
       "      <td>1.0</td>\n",
       "      <td>1.0</td>\n",
       "      <td>71.0</td>\n",
       "      <td>3.0</td>\n",
       "      <td>1.0</td>\n",
       "      <td>100.0</td>\n",
       "      <td>25.000000</td>\n",
       "      <td>118.0</td>\n",
       "      <td>92.0</td>\n",
       "      <td>28.0</td>\n",
       "      <td>42.0</td>\n",
       "      <td>0</td>\n",
       "      <td>0.0</td>\n",
       "      <td>7.0</td>\n",
       "      <td>0.0</td>\n",
       "      <td>0.0</td>\n",
       "      <td>0.0</td>\n",
       "      <td>0.142857</td>\n",
       "      <td>0.987698</td>\n",
       "    </tr>\n",
       "    <tr>\n",
       "      <th>3</th>\n",
       "      <td>231448</td>\n",
       "      <td>5</td>\n",
       "      <td>696</td>\n",
       "      <td>5</td>\n",
       "      <td>60.0</td>\n",
       "      <td>56.0</td>\n",
       "      <td>19.0</td>\n",
       "      <td>1.0</td>\n",
       "      <td>73.0</td>\n",
       "      <td>3.0</td>\n",
       "      <td>2.0</td>\n",
       "      <td>100.0</td>\n",
       "      <td>30.000000</td>\n",
       "      <td>43.0</td>\n",
       "      <td>38.0</td>\n",
       "      <td>9.0</td>\n",
       "      <td>9.0</td>\n",
       "      <td>1</td>\n",
       "      <td>0.0</td>\n",
       "      <td>6.0</td>\n",
       "      <td>0.0</td>\n",
       "      <td>0.0</td>\n",
       "      <td>0.0</td>\n",
       "      <td>0.166667</td>\n",
       "      <td>0.933333</td>\n",
       "    </tr>\n",
       "    <tr>\n",
       "      <th>4</th>\n",
       "      <td>185580</td>\n",
       "      <td>1</td>\n",
       "      <td>1081</td>\n",
       "      <td>3</td>\n",
       "      <td>67.0</td>\n",
       "      <td>61.0</td>\n",
       "      <td>12.0</td>\n",
       "      <td>1.0</td>\n",
       "      <td>55.0</td>\n",
       "      <td>2.0</td>\n",
       "      <td>3.0</td>\n",
       "      <td>100.0</td>\n",
       "      <td>18.181818</td>\n",
       "      <td>243.0</td>\n",
       "      <td>176.0</td>\n",
       "      <td>37.0</td>\n",
       "      <td>35.0</td>\n",
       "      <td>5</td>\n",
       "      <td>0.0</td>\n",
       "      <td>5.0</td>\n",
       "      <td>0.0</td>\n",
       "      <td>0.0</td>\n",
       "      <td>0.0</td>\n",
       "      <td>0.200000</td>\n",
       "      <td>0.978753</td>\n",
       "    </tr>\n",
       "  </tbody>\n",
       "</table>\n",
       "</div>"
      ],
      "text/plain": [
       "   user_id  date  time  communication_type  total_links  no_of_internal_links  \\\n",
       "0    14051     1  1195                   3         88.0                  79.0   \n",
       "1   134438     2   773                   3         67.0                  62.0   \n",
       "2   181789    24   915                   4          7.0                   3.0   \n",
       "3   231448     5   696                   5         60.0                  56.0   \n",
       "4   185580     1  1081                   3         67.0                  61.0   \n",
       "\n",
       "   no_of_images  count_sent  count_letters  count_punctuations  \\\n",
       "0          13.0         1.0           88.0                 5.0   \n",
       "1          10.0         1.0          111.0                 5.0   \n",
       "2           1.0         1.0           71.0                 3.0   \n",
       "3          19.0         1.0           73.0                 3.0   \n",
       "4          12.0         1.0           55.0                 2.0   \n",
       "\n",
       "   count_stopwords  word_unique_percent  punct_percent  email_count_word  \\\n",
       "0              2.0                100.0      41.666667             238.0   \n",
       "1              3.0                100.0      31.250000             166.0   \n",
       "2              1.0                100.0      25.000000             118.0   \n",
       "3              2.0                100.0      30.000000              43.0   \n",
       "4              3.0                100.0      18.181818             243.0   \n",
       "\n",
       "   email_count_unique_word  email_count_punctuations  email_cap_count  \\\n",
       "0                    159.0                      37.0             58.0   \n",
       "1                    122.0                      24.0             48.0   \n",
       "2                     92.0                      28.0             42.0   \n",
       "3                     38.0                       9.0              9.0   \n",
       "4                    176.0                      37.0             35.0   \n",
       "\n",
       "   day_of_week  count_click  count_user  click_confidence  count_is_open  \\\n",
       "0            4          0.0         9.0               0.0            0.0   \n",
       "1            3          0.0         4.0               0.0            0.0   \n",
       "2            0          0.0         7.0               0.0            0.0   \n",
       "3            1          0.0         6.0               0.0            0.0   \n",
       "4            5          0.0         5.0               0.0            0.0   \n",
       "\n",
       "   is_open_confidence  count_user_freq  sentiment  \n",
       "0                 0.0         0.111111   2.035234  \n",
       "1                 0.0         0.250000   1.072807  \n",
       "2                 0.0         0.142857   0.987698  \n",
       "3                 0.0         0.166667   0.933333  \n",
       "4                 0.0         0.200000   0.978753  "
      ]
     },
     "execution_count": 11,
     "metadata": {},
     "output_type": "execute_result"
    }
   ],
   "source": [
    "X_train.head()"
   ]
  },
  {
   "cell_type": "code",
   "execution_count": 12,
   "metadata": {},
   "outputs": [
    {
     "data": {
      "text/plain": [
       "user_id                     0\n",
       "date                        0\n",
       "time                        0\n",
       "communication_type          0\n",
       "total_links                 0\n",
       "no_of_internal_links        0\n",
       "no_of_images                0\n",
       "count_sent                  0\n",
       "count_letters               0\n",
       "count_punctuations          0\n",
       "count_stopwords             0\n",
       "word_unique_percent         0\n",
       "punct_percent               0\n",
       "email_count_word            0\n",
       "email_count_unique_word     0\n",
       "email_count_punctuations    0\n",
       "email_cap_count             0\n",
       "day_of_week                 0\n",
       "count_click                 0\n",
       "count_user                  0\n",
       "click_confidence            0\n",
       "count_is_open               0\n",
       "is_open_confidence          0\n",
       "count_user_freq             0\n",
       "sentiment                   0\n",
       "dtype: int64"
      ]
     },
     "execution_count": 12,
     "metadata": {},
     "output_type": "execute_result"
    }
   ],
   "source": [
    "X_test.isnull().sum()"
   ]
  },
  {
   "cell_type": "markdown",
   "metadata": {},
   "source": [
    "## Under Sampling using Repeated Edited Nearest Neighbour Algorithm"
   ]
  },
  {
   "cell_type": "code",
   "execution_count": 13,
   "metadata": {},
   "outputs": [
    {
     "name": "stdout",
     "output_type": "stream",
     "text": [
      "RENN\n",
      "Reduced 5.03%\n"
     ]
    }
   ],
   "source": [
    "from imblearn.under_sampling import (AllKNN, EditedNearestNeighbours, RepeatedEditedNearestNeighbours)\n",
    "\n",
    "print('RENN')\n",
    "enn = RepeatedEditedNearestNeighbours(return_indices=True)\n",
    "X_res, Y_res, idx_res = enn.fit_sample(X_train, Y_train)\n",
    "reduction_str = ('Reduced {:.2f}%'.format(100 * (1 - float(len(X_res))/len(X_train))))\n",
    "print(reduction_str)"
   ]
  },
  {
   "cell_type": "code",
   "execution_count": 14,
   "metadata": {},
   "outputs": [
    {
     "name": "stdout",
     "output_type": "stream",
     "text": [
      "(971719, 25) (971719,)\n",
      "12782 12782\n"
     ]
    }
   ],
   "source": [
    "print (X_res.shape, Y_res.shape)\n",
    "print (Y_res.sum(), Y_train.sum())"
   ]
  },
  {
   "cell_type": "markdown",
   "metadata": {},
   "source": [
    "## Split Train-Validation Set"
   ]
  },
  {
   "cell_type": "code",
   "execution_count": 15,
   "metadata": {},
   "outputs": [
    {
     "name": "stdout",
     "output_type": "stream",
     "text": [
      "Train_shape: (898840, 25)\n",
      "Val_shape: (72879, 25)\n",
      "No of positives in train: 11801\n",
      "No of positives in val: 981\n"
     ]
    }
   ],
   "source": [
    "from xgboost import XGBClassifier\n",
    "from sklearn.model_selection import train_test_split\n",
    "import xgboost as xgb\n",
    "\n",
    "X_rs_trn, X_rs_val, Y_res_trn, Y_res_val = train_test_split(X_res, Y_res, test_size=0.075, shuffle=True\n",
    "                                                            , random_state=42)\n",
    "\n",
    "print (\"Train_shape: \" + str(X_rs_trn.shape))\n",
    "print (\"Val_shape: \" + str(X_rs_val.shape))\n",
    "print (\"No of positives in train: \" + str(Y_res_trn.sum()))\n",
    "print (\"No of positives in val: \" + str(Y_res_val.sum()))"
   ]
  },
  {
   "cell_type": "markdown",
   "metadata": {},
   "source": [
    "## Training the Model"
   ]
  },
  {
   "cell_type": "code",
   "execution_count": 17,
   "metadata": {
    "scrolled": false
   },
   "outputs": [
    {
     "name": "stdout",
     "output_type": "stream",
     "text": [
      "Training the model...\n",
      "[0]\ttrain-auc:0.976375\tvalid-auc:0.974352\n",
      "Multiple eval metrics have been passed: 'valid-auc' will be used for early stopping.\n",
      "\n",
      "Will train until valid-auc hasn't improved in 50 rounds.\n",
      "[25]\ttrain-auc:0.977767\tvalid-auc:0.975521\n",
      "[50]\ttrain-auc:0.977849\tvalid-auc:0.975642\n",
      "[75]\ttrain-auc:0.97831\tvalid-auc:0.976259\n",
      "[100]\ttrain-auc:0.978442\tvalid-auc:0.976497\n",
      "[125]\ttrain-auc:0.978556\tvalid-auc:0.976565\n",
      "[150]\ttrain-auc:0.978656\tvalid-auc:0.976641\n",
      "[175]\ttrain-auc:0.978786\tvalid-auc:0.976782\n",
      "[200]\ttrain-auc:0.978906\tvalid-auc:0.976918\n",
      "[225]\ttrain-auc:0.979034\tvalid-auc:0.977079\n",
      "[250]\ttrain-auc:0.979091\tvalid-auc:0.977161\n",
      "[275]\ttrain-auc:0.979157\tvalid-auc:0.977232\n",
      "[300]\ttrain-auc:0.97922\tvalid-auc:0.977296\n",
      "[325]\ttrain-auc:0.979287\tvalid-auc:0.977393\n",
      "[350]\ttrain-auc:0.97936\tvalid-auc:0.977513\n",
      "[375]\ttrain-auc:0.979404\tvalid-auc:0.977571\n",
      "[400]\ttrain-auc:0.979447\tvalid-auc:0.977648\n",
      "[425]\ttrain-auc:0.979482\tvalid-auc:0.977696\n",
      "[450]\ttrain-auc:0.979529\tvalid-auc:0.977778\n",
      "[475]\ttrain-auc:0.979565\tvalid-auc:0.977824\n",
      "[500]\ttrain-auc:0.979595\tvalid-auc:0.977873\n",
      "[525]\ttrain-auc:0.979626\tvalid-auc:0.977922\n",
      "[550]\ttrain-auc:0.979653\tvalid-auc:0.977968\n",
      "[575]\ttrain-auc:0.979682\tvalid-auc:0.978016\n",
      "[600]\ttrain-auc:0.979705\tvalid-auc:0.978043\n",
      "[625]\ttrain-auc:0.979727\tvalid-auc:0.978085\n",
      "[650]\ttrain-auc:0.97974\tvalid-auc:0.978114\n",
      "[675]\ttrain-auc:0.979757\tvalid-auc:0.978155\n",
      "[700]\ttrain-auc:0.979778\tvalid-auc:0.978173\n",
      "[725]\ttrain-auc:0.979799\tvalid-auc:0.978205\n",
      "[750]\ttrain-auc:0.979814\tvalid-auc:0.978223\n",
      "[775]\ttrain-auc:0.979828\tvalid-auc:0.978237\n",
      "[800]\ttrain-auc:0.979841\tvalid-auc:0.97825\n",
      "[825]\ttrain-auc:0.979857\tvalid-auc:0.978269\n",
      "[850]\ttrain-auc:0.979872\tvalid-auc:0.978286\n",
      "[875]\ttrain-auc:0.97989\tvalid-auc:0.978316\n",
      "[900]\ttrain-auc:0.979903\tvalid-auc:0.978337\n",
      "[925]\ttrain-auc:0.979916\tvalid-auc:0.978346\n",
      "[950]\ttrain-auc:0.979933\tvalid-auc:0.978356\n",
      "[975]\ttrain-auc:0.979946\tvalid-auc:0.978359\n",
      "[1000]\ttrain-auc:0.979954\tvalid-auc:0.978366\n",
      "[1025]\ttrain-auc:0.979966\tvalid-auc:0.978373\n",
      "[1050]\ttrain-auc:0.97998\tvalid-auc:0.978376\n",
      "[1075]\ttrain-auc:0.979994\tvalid-auc:0.978384\n",
      "[1100]\ttrain-auc:0.98001\tvalid-auc:0.9784\n",
      "[1125]\ttrain-auc:0.980026\tvalid-auc:0.978418\n",
      "[1150]\ttrain-auc:0.980041\tvalid-auc:0.978427\n",
      "[1175]\ttrain-auc:0.980063\tvalid-auc:0.978437\n",
      "[1200]\ttrain-auc:0.980082\tvalid-auc:0.978455\n",
      "[1225]\ttrain-auc:0.980105\tvalid-auc:0.978467\n",
      "[1250]\ttrain-auc:0.980128\tvalid-auc:0.978487\n",
      "[1275]\ttrain-auc:0.980151\tvalid-auc:0.978494\n",
      "[1300]\ttrain-auc:0.980178\tvalid-auc:0.978509\n",
      "[1325]\ttrain-auc:0.980201\tvalid-auc:0.97852\n",
      "[1350]\ttrain-auc:0.980227\tvalid-auc:0.978536\n",
      "[1375]\ttrain-auc:0.980244\tvalid-auc:0.978539\n",
      "[1400]\ttrain-auc:0.980274\tvalid-auc:0.978557\n",
      "[1425]\ttrain-auc:0.980298\tvalid-auc:0.978568\n",
      "[1450]\ttrain-auc:0.98032\tvalid-auc:0.978581\n",
      "[1475]\ttrain-auc:0.980341\tvalid-auc:0.978587\n",
      "[1500]\ttrain-auc:0.980364\tvalid-auc:0.9786\n",
      "[1525]\ttrain-auc:0.980383\tvalid-auc:0.978602\n",
      "[1550]\ttrain-auc:0.980399\tvalid-auc:0.978604\n",
      "[1575]\ttrain-auc:0.980417\tvalid-auc:0.978609\n",
      "[1600]\ttrain-auc:0.980441\tvalid-auc:0.978623\n",
      "[1625]\ttrain-auc:0.980459\tvalid-auc:0.978627\n",
      "[1650]\ttrain-auc:0.980473\tvalid-auc:0.97863\n",
      "[1675]\ttrain-auc:0.980493\tvalid-auc:0.978635\n",
      "[1700]\ttrain-auc:0.98051\tvalid-auc:0.97864\n",
      "[1725]\ttrain-auc:0.980531\tvalid-auc:0.978648\n",
      "[1750]\ttrain-auc:0.980549\tvalid-auc:0.978659\n",
      "[1775]\ttrain-auc:0.980566\tvalid-auc:0.978666\n",
      "[1800]\ttrain-auc:0.980582\tvalid-auc:0.978665\n",
      "[1825]\ttrain-auc:0.9806\tvalid-auc:0.978679\n",
      "[1850]\ttrain-auc:0.980618\tvalid-auc:0.978682\n",
      "[1875]\ttrain-auc:0.980633\tvalid-auc:0.97868\n",
      "Stopping. Best iteration:\n",
      "[1844]\ttrain-auc:0.980614\tvalid-auc:0.978683\n",
      "\n"
     ]
    }
   ],
   "source": [
    "params = {}\n",
    "params['booster'] = 'gbtree'\n",
    "params['objective'] = 'binary:logistic'\n",
    "params['eta'] = 0.01\n",
    "params['eval_metric'] = 'auc'\n",
    "params['max_depth'] = 3\n",
    "params['colsample_bytree'] = 0.8\n",
    "params['subsample'] = 0.8\n",
    "params['min_child_weight'] = 5\n",
    "params['silent'] = 1\n",
    "\n",
    "d_train = xgb.DMatrix(X_rs_trn, label=Y_res_trn)\n",
    "d_valid = xgb.DMatrix(X_rs_val, label=Y_res_val)\n",
    "watchlist = [(d_train, 'train'), (d_valid, 'valid')]\n",
    "\n",
    "print ('Training the model...')\n",
    "\n",
    "# Third value is number of rounds (n_estimators), early_stopping_rounds stops training when it hasn't \n",
    "# improved for that number of rounds\n",
    "clf = xgb.train(params, d_train, 7200, watchlist, early_stopping_rounds=50, verbose_eval=25)\n",
    "\n",
    "# lb 6535 --> train-auc: 0.981083 valid-auc:0.979487 with Allknn maxdepth=5, min_child_weight=5, 0.8, 0.8\n",
    "# lb 6597 --> train-auc:0.980757 valid-auc:0.978668 with RENN maxdepth=3, no min_child_weight, 0.8, 0.8\n",
    "# lb 6641 --> train-auc:0.980614 valid-auc:0.978683 with RENN and polarity features sumed up: same params"
   ]
  },
  {
   "cell_type": "markdown",
   "metadata": {},
   "source": [
    "### Plot Feature Importance"
   ]
  },
  {
   "cell_type": "code",
   "execution_count": 23,
   "metadata": {},
   "outputs": [
    {
     "name": "stdout",
     "output_type": "stream",
     "text": [
      "[('click_confidence', 1906), ('count_click', 1216), ('time', 1207), ('is_open_confidence', 808), ('user_id', 579), ('email_cap_count', 423), ('count_is_open', 377), ('count_user', 353), ('sentiment', 350), ('communication_type', 258), ('email_count_word', 223), ('email_count_unique_word', 201), ('no_of_images', 199), ('count_stopwords', 190), ('day_of_week', 182), ('punct_percent', 175), ('no_of_internal_links', 173), ('total_links', 169), ('word_unique_percent', 169), ('count_letters', 159), ('date', 146), ('email_count_punctuations', 119), ('count_punctuations', 99), ('count_user_freq', 72)]\n"
     ]
    }
   ],
   "source": [
    "from operator import itemgetter\n",
    "\n",
    "def create_feature_map(features):\n",
    "    outfile = open('xgb.fmap', 'w')\n",
    "    for i, feat in enumerate(features):\n",
    "        outfile.write('{0}\\t{1}\\tq\\n'.format(i, feat))\n",
    "    outfile.close()\n",
    "\n",
    "def get_importance(gbm, features):\n",
    "    create_feature_map(features)\n",
    "    importance = gbm.get_fscore(fmap='xgb.fmap')\n",
    "    importance = sorted(importance.items(), key=itemgetter(1), reverse=True)\n",
    "    return importance\n",
    "\n",
    "print(get_importance(clf, list(X_train.columns.values)))"
   ]
  },
  {
   "cell_type": "code",
   "execution_count": 31,
   "metadata": {},
   "outputs": [
    {
     "data": {
      "text/plain": [
       "<matplotlib.axes._subplots.AxesSubplot at 0x7febbefd14e0>"
      ]
     },
     "execution_count": 31,
     "metadata": {},
     "output_type": "execute_result"
    },
    {
     "data": {
      "image/png": "[encoded data removed]",
      "text/plain": [
       "<matplotlib.figure.Figure at 0x7febbefb2c50>"
      ]
     },
     "metadata": {},
     "output_type": "display_data"
    }
   ],
   "source": [
    "from matplotlib import pyplot as plt\n",
    "\n",
    "fig, ax = plt.subplots(1,1, figsize=(14, 10))\n",
    "xgb.plot_importance(clf, ax=ax)"
   ]
  },
  {
   "cell_type": "markdown",
   "metadata": {},
   "source": [
    "## Predicting on Test Data"
   ]
  },
  {
   "cell_type": "code",
   "execution_count": 32,
   "metadata": {},
   "outputs": [
    {
     "name": "stdout",
     "output_type": "stream",
     "text": [
      "Predicting...\n"
     ]
    }
   ],
   "source": [
    "d_test = xgb.DMatrix(X_test)\n",
    "d_test.feature_names = d_train.feature_names\n",
    "\n",
    "print ('Predicting...')\n",
    "p_test = clf.predict(d_test) "
   ]
  },
  {
   "cell_type": "code",
   "execution_count": 34,
   "metadata": {},
   "outputs": [
    {
     "data": {
      "text/html": [
       "<div>\n",
       "<style scoped>\n",
       "    .dataframe tbody tr th:only-of-type {\n",
       "        vertical-align: middle;\n",
       "    }\n",
       "\n",
       "    .dataframe tbody tr th {\n",
       "        vertical-align: top;\n",
       "    }\n",
       "\n",
       "    .dataframe thead th {\n",
       "        text-align: right;\n",
       "    }\n",
       "</style>\n",
       "<table border=\"1\" class=\"dataframe\">\n",
       "  <thead>\n",
       "    <tr style=\"text-align: right;\">\n",
       "      <th></th>\n",
       "      <th>id</th>\n",
       "      <th>is_click</th>\n",
       "    </tr>\n",
       "  </thead>\n",
       "  <tbody>\n",
       "    <tr>\n",
       "      <th>0</th>\n",
       "      <td>63_122715</td>\n",
       "      <td>0.000002</td>\n",
       "    </tr>\n",
       "    <tr>\n",
       "      <th>1</th>\n",
       "      <td>56_76206</td>\n",
       "      <td>0.000002</td>\n",
       "    </tr>\n",
       "    <tr>\n",
       "      <th>2</th>\n",
       "      <td>57_96189</td>\n",
       "      <td>0.000004</td>\n",
       "    </tr>\n",
       "    <tr>\n",
       "      <th>3</th>\n",
       "      <td>56_166917</td>\n",
       "      <td>0.000002</td>\n",
       "    </tr>\n",
       "    <tr>\n",
       "      <th>4</th>\n",
       "      <td>56_172838</td>\n",
       "      <td>0.000003</td>\n",
       "    </tr>\n",
       "  </tbody>\n",
       "</table>\n",
       "</div>"
      ],
      "text/plain": [
       "          id  is_click\n",
       "0  63_122715  0.000002\n",
       "1   56_76206  0.000002\n",
       "2   57_96189  0.000004\n",
       "3  56_166917  0.000002\n",
       "4  56_172838  0.000003"
      ]
     },
     "execution_count": 34,
     "metadata": {},
     "output_type": "execute_result"
    }
   ],
   "source": [
    "sub = pd.read_csv('input/sample_submission.csv')\n",
    "sub['is_click'] = p_test\n",
    "sub.head()"
   ]
  },
  {
   "cell_type": "code",
   "execution_count": 36,
   "metadata": {},
   "outputs": [],
   "source": [
    "sub.to_csv('sub_xgb.csv', index=False)"
   ]
  },
  {
   "cell_type": "markdown",
   "metadata": {},
   "source": [
    "## Output Distribution"
   ]
  },
  {
   "cell_type": "code",
   "execution_count": 37,
   "metadata": {
    "scrolled": true
   },
   "outputs": [
    {
     "data": {
      "text/html": [
       "<div>\n",
       "<style scoped>\n",
       "    .dataframe tbody tr th:only-of-type {\n",
       "        vertical-align: middle;\n",
       "    }\n",
       "\n",
       "    .dataframe tbody tr th {\n",
       "        vertical-align: top;\n",
       "    }\n",
       "\n",
       "    .dataframe thead th {\n",
       "        text-align: right;\n",
       "    }\n",
       "</style>\n",
       "<table border=\"1\" class=\"dataframe\">\n",
       "  <thead>\n",
       "    <tr style=\"text-align: right;\">\n",
       "      <th></th>\n",
       "      <th>is_click</th>\n",
       "    </tr>\n",
       "  </thead>\n",
       "  <tbody>\n",
       "    <tr>\n",
       "      <th>count</th>\n",
       "      <td>773858.000000</td>\n",
       "    </tr>\n",
       "    <tr>\n",
       "      <th>mean</th>\n",
       "      <td>0.013287</td>\n",
       "    </tr>\n",
       "    <tr>\n",
       "      <th>std</th>\n",
       "      <td>0.062110</td>\n",
       "    </tr>\n",
       "    <tr>\n",
       "      <th>min</th>\n",
       "      <td>0.000002</td>\n",
       "    </tr>\n",
       "    <tr>\n",
       "      <th>25%</th>\n",
       "      <td>0.000002</td>\n",
       "    </tr>\n",
       "    <tr>\n",
       "      <th>50%</th>\n",
       "      <td>0.000003</td>\n",
       "    </tr>\n",
       "    <tr>\n",
       "      <th>75%</th>\n",
       "      <td>0.000003</td>\n",
       "    </tr>\n",
       "    <tr>\n",
       "      <th>max</th>\n",
       "      <td>0.992902</td>\n",
       "    </tr>\n",
       "  </tbody>\n",
       "</table>\n",
       "</div>"
      ],
      "text/plain": [
       "            is_click\n",
       "count  773858.000000\n",
       "mean        0.013287\n",
       "std         0.062110\n",
       "min         0.000002\n",
       "25%         0.000002\n",
       "50%         0.000003\n",
       "75%         0.000003\n",
       "max         0.992902"
      ]
     },
     "execution_count": 37,
     "metadata": {},
     "output_type": "execute_result"
    }
   ],
   "source": [
    "sub.describe()"
   ]
  },
  {
   "cell_type": "code",
   "execution_count": 38,
   "metadata": {},
   "outputs": [
    {
     "data": {
      "text/plain": [
       "<matplotlib.axes._subplots.AxesSubplot at 0x7feb9e311470>"
      ]
     },
     "execution_count": 38,
     "metadata": {},
     "output_type": "execute_result"
    },
    {
     "data": {
      "image/png": "[encoded data removed]",
      "text/plain": [
       "<matplotlib.figure.Figure at 0x7feb9e311438>"
      ]
     },
     "metadata": {},
     "output_type": "display_data"
    }
   ],
   "source": [
    "import seaborn as sns\n",
    "\n",
    "plt.figure(figsize=(12, 5))\n",
    "sns.distplot(sub['is_click'], kde = False)"
   ]
  },
  {
   "cell_type": "markdown",
   "metadata": {},
   "source": [
    "## AV Leaderboard Score - 0.66823"
   ]
  },
  {
   "cell_type": "markdown",
   "metadata": {},
   "source": [
    "## Final Solution is an ensemble of LightGBM and XGBoost\n",
    "### Score - 0.68799"
   ]
  },
  {
   "cell_type": "markdown",
   "metadata": {},
   "source": [
    "## Private LB - 0.68630"
   ]
  }
 ],
 "metadata": {
  "kernelspec": {
   "display_name": "Python 3",
   "language": "python",
   "name": "python3"
  },
  "language_info": {
   "codemirror_mode": {
    "name": "ipython",
    "version": 3
   },
   "file_extension": ".py",
   "mimetype": "text/x-python",
   "name": "python",
   "nbconvert_exporter": "python",
   "pygments_lexer": "ipython3",
   "version": "3.6.3"
  }
 },
 "nbformat": 4,
 "nbformat_minor": 2
}
