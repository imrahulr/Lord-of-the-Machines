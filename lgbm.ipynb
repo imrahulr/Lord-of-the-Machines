{
 "cells": [
  {
   "cell_type": "markdown",
   "metadata": {},
   "source": [
    "# LightGBM"
   ]
  },
  {
   "cell_type": "code",
   "execution_count": 1,
   "metadata": {},
   "outputs": [],
   "source": [
    "import pandas as pd\n",
    "import numpy as np\n",
    "import time, re, string\n",
    "import warnings\n",
    "from sklearn.preprocessing import OneHotEncoder\n",
    "\n",
    "from tqdm import tqdm_notebook as tqdm\n",
    "\n",
    "warnings.filterwarnings('ignore')\n",
    "pd.options.display.max_columns = 100"
   ]
  },
  {
   "cell_type": "markdown",
   "metadata": {},
   "source": [
    "## Load Train and Test Data with Derived Features"
   ]
  },
  {
   "cell_type": "code",
   "execution_count": 2,
   "metadata": {
    "scrolled": true
   },
   "outputs": [
    {
     "data": {
      "text/html": [
       "<div>\n",
       "<style scoped>\n",
       "    .dataframe tbody tr th:only-of-type {\n",
       "        vertical-align: middle;\n",
       "    }\n",
       "\n",
       "    .dataframe tbody tr th {\n",
       "        vertical-align: top;\n",
       "    }\n",
       "\n",
       "    .dataframe thead th {\n",
       "        text-align: right;\n",
       "    }\n",
       "</style>\n",
       "<table border=\"1\" class=\"dataframe\">\n",
       "  <thead>\n",
       "    <tr style=\"text-align: right;\">\n",
       "      <th></th>\n",
       "      <th>user_id</th>\n",
       "      <th>is_open</th>\n",
       "      <th>is_click</th>\n",
       "      <th>date</th>\n",
       "      <th>month</th>\n",
       "      <th>hour</th>\n",
       "      <th>mins</th>\n",
       "      <th>communication_type</th>\n",
       "      <th>total_links</th>\n",
       "      <th>no_of_internal_links</th>\n",
       "      <th>no_of_images</th>\n",
       "      <th>no_of_sections</th>\n",
       "      <th>count_sent</th>\n",
       "      <th>count_word</th>\n",
       "      <th>count_unique_word</th>\n",
       "      <th>count_letters</th>\n",
       "      <th>count_punctuations</th>\n",
       "      <th>count_stopwords</th>\n",
       "      <th>mean_word_len</th>\n",
       "      <th>word_unique_percent</th>\n",
       "      <th>punct_percent</th>\n",
       "      <th>email_count_word</th>\n",
       "      <th>email_count_unique_word</th>\n",
       "      <th>email_count_letters</th>\n",
       "      <th>email_count_punctuations</th>\n",
       "      <th>email_cap_count</th>\n",
       "      <th>day_of_week</th>\n",
       "      <th>count_click</th>\n",
       "      <th>count_user</th>\n",
       "      <th>click_confidence</th>\n",
       "      <th>count_is_open</th>\n",
       "      <th>is_open_confidence</th>\n",
       "      <th>email_3_similar</th>\n",
       "      <th>sub_3_similar</th>\n",
       "      <th>campaign_id</th>\n",
       "      <th>sub_period</th>\n",
       "      <th>comm_type_click_percent</th>\n",
       "      <th>body_polarity</th>\n",
       "      <th>title_polarity</th>\n",
       "      <th>body_subjectivity</th>\n",
       "      <th>title_subjectivity</th>\n",
       "    </tr>\n",
       "  </thead>\n",
       "  <tbody>\n",
       "    <tr>\n",
       "      <th>0</th>\n",
       "      <td>14051</td>\n",
       "      <td>0</td>\n",
       "      <td>0</td>\n",
       "      <td>1</td>\n",
       "      <td>9</td>\n",
       "      <td>19</td>\n",
       "      <td>55</td>\n",
       "      <td>3</td>\n",
       "      <td>88.0</td>\n",
       "      <td>79.0</td>\n",
       "      <td>13.0</td>\n",
       "      <td>4.0</td>\n",
       "      <td>1.0</td>\n",
       "      <td>12.0</td>\n",
       "      <td>12.0</td>\n",
       "      <td>88.0</td>\n",
       "      <td>5.0</td>\n",
       "      <td>2.0</td>\n",
       "      <td>6.416667</td>\n",
       "      <td>100.0</td>\n",
       "      <td>41.666667</td>\n",
       "      <td>238.0</td>\n",
       "      <td>159.0</td>\n",
       "      <td>1382.0</td>\n",
       "      <td>37.0</td>\n",
       "      <td>58.0</td>\n",
       "      <td>4</td>\n",
       "      <td>0.0</td>\n",
       "      <td>9.0</td>\n",
       "      <td>0.0</td>\n",
       "      <td>0.0</td>\n",
       "      <td>0.0</td>\n",
       "      <td>0.0</td>\n",
       "      <td>2.0</td>\n",
       "      <td>42</td>\n",
       "      <td>247</td>\n",
       "      <td>12.70333</td>\n",
       "      <td>0.278346</td>\n",
       "      <td>0.462500</td>\n",
       "      <td>0.644388</td>\n",
       "      <td>0.650000</td>\n",
       "    </tr>\n",
       "    <tr>\n",
       "      <th>1</th>\n",
       "      <td>134438</td>\n",
       "      <td>0</td>\n",
       "      <td>0</td>\n",
       "      <td>2</td>\n",
       "      <td>11</td>\n",
       "      <td>12</td>\n",
       "      <td>53</td>\n",
       "      <td>3</td>\n",
       "      <td>67.0</td>\n",
       "      <td>62.0</td>\n",
       "      <td>10.0</td>\n",
       "      <td>4.0</td>\n",
       "      <td>1.0</td>\n",
       "      <td>16.0</td>\n",
       "      <td>16.0</td>\n",
       "      <td>111.0</td>\n",
       "      <td>5.0</td>\n",
       "      <td>3.0</td>\n",
       "      <td>6.000000</td>\n",
       "      <td>100.0</td>\n",
       "      <td>31.250000</td>\n",
       "      <td>166.0</td>\n",
       "      <td>122.0</td>\n",
       "      <td>971.0</td>\n",
       "      <td>24.0</td>\n",
       "      <td>48.0</td>\n",
       "      <td>3</td>\n",
       "      <td>0.0</td>\n",
       "      <td>4.0</td>\n",
       "      <td>0.0</td>\n",
       "      <td>0.0</td>\n",
       "      <td>0.0</td>\n",
       "      <td>1.0</td>\n",
       "      <td>2.0</td>\n",
       "      <td>52</td>\n",
       "      <td>150</td>\n",
       "      <td>12.70333</td>\n",
       "      <td>0.071053</td>\n",
       "      <td>0.170455</td>\n",
       "      <td>0.376754</td>\n",
       "      <td>0.454545</td>\n",
       "    </tr>\n",
       "    <tr>\n",
       "      <th>2</th>\n",
       "      <td>181789</td>\n",
       "      <td>0</td>\n",
       "      <td>0</td>\n",
       "      <td>24</td>\n",
       "      <td>7</td>\n",
       "      <td>15</td>\n",
       "      <td>15</td>\n",
       "      <td>4</td>\n",
       "      <td>7.0</td>\n",
       "      <td>3.0</td>\n",
       "      <td>1.0</td>\n",
       "      <td>1.0</td>\n",
       "      <td>1.0</td>\n",
       "      <td>12.0</td>\n",
       "      <td>12.0</td>\n",
       "      <td>71.0</td>\n",
       "      <td>3.0</td>\n",
       "      <td>1.0</td>\n",
       "      <td>5.000000</td>\n",
       "      <td>100.0</td>\n",
       "      <td>25.000000</td>\n",
       "      <td>118.0</td>\n",
       "      <td>92.0</td>\n",
       "      <td>739.0</td>\n",
       "      <td>28.0</td>\n",
       "      <td>42.0</td>\n",
       "      <td>0</td>\n",
       "      <td>0.0</td>\n",
       "      <td>7.0</td>\n",
       "      <td>0.0</td>\n",
       "      <td>0.0</td>\n",
       "      <td>0.0</td>\n",
       "      <td>1.0</td>\n",
       "      <td>1.0</td>\n",
       "      <td>33</td>\n",
       "      <td>249</td>\n",
       "      <td>14.27746</td>\n",
       "      <td>0.408333</td>\n",
       "      <td>0.000000</td>\n",
       "      <td>0.579365</td>\n",
       "      <td>0.000000</td>\n",
       "    </tr>\n",
       "    <tr>\n",
       "      <th>3</th>\n",
       "      <td>231448</td>\n",
       "      <td>0</td>\n",
       "      <td>0</td>\n",
       "      <td>5</td>\n",
       "      <td>9</td>\n",
       "      <td>11</td>\n",
       "      <td>36</td>\n",
       "      <td>5</td>\n",
       "      <td>60.0</td>\n",
       "      <td>56.0</td>\n",
       "      <td>19.0</td>\n",
       "      <td>6.0</td>\n",
       "      <td>1.0</td>\n",
       "      <td>10.0</td>\n",
       "      <td>10.0</td>\n",
       "      <td>73.0</td>\n",
       "      <td>3.0</td>\n",
       "      <td>2.0</td>\n",
       "      <td>6.400000</td>\n",
       "      <td>100.0</td>\n",
       "      <td>30.000000</td>\n",
       "      <td>43.0</td>\n",
       "      <td>38.0</td>\n",
       "      <td>273.0</td>\n",
       "      <td>9.0</td>\n",
       "      <td>9.0</td>\n",
       "      <td>1</td>\n",
       "      <td>0.0</td>\n",
       "      <td>6.0</td>\n",
       "      <td>0.0</td>\n",
       "      <td>0.0</td>\n",
       "      <td>0.0</td>\n",
       "      <td>1.0</td>\n",
       "      <td>1.0</td>\n",
       "      <td>44</td>\n",
       "      <td>216</td>\n",
       "      <td>13.02976</td>\n",
       "      <td>0.166667</td>\n",
       "      <td>0.000000</td>\n",
       "      <td>0.766667</td>\n",
       "      <td>0.000000</td>\n",
       "    </tr>\n",
       "    <tr>\n",
       "      <th>4</th>\n",
       "      <td>185580</td>\n",
       "      <td>0</td>\n",
       "      <td>0</td>\n",
       "      <td>1</td>\n",
       "      <td>7</td>\n",
       "      <td>18</td>\n",
       "      <td>1</td>\n",
       "      <td>3</td>\n",
       "      <td>67.0</td>\n",
       "      <td>61.0</td>\n",
       "      <td>12.0</td>\n",
       "      <td>3.0</td>\n",
       "      <td>1.0</td>\n",
       "      <td>11.0</td>\n",
       "      <td>11.0</td>\n",
       "      <td>55.0</td>\n",
       "      <td>2.0</td>\n",
       "      <td>3.0</td>\n",
       "      <td>4.090909</td>\n",
       "      <td>100.0</td>\n",
       "      <td>18.181818</td>\n",
       "      <td>243.0</td>\n",
       "      <td>176.0</td>\n",
       "      <td>1498.0</td>\n",
       "      <td>37.0</td>\n",
       "      <td>35.0</td>\n",
       "      <td>5</td>\n",
       "      <td>0.0</td>\n",
       "      <td>5.0</td>\n",
       "      <td>0.0</td>\n",
       "      <td>0.0</td>\n",
       "      <td>0.0</td>\n",
       "      <td>0.0</td>\n",
       "      <td>1.0</td>\n",
       "      <td>29</td>\n",
       "      <td>220</td>\n",
       "      <td>12.70333</td>\n",
       "      <td>0.390083</td>\n",
       "      <td>0.000000</td>\n",
       "      <td>0.588671</td>\n",
       "      <td>0.000000</td>\n",
       "    </tr>\n",
       "  </tbody>\n",
       "</table>\n",
       "</div>"
      ],
      "text/plain": [
       "   user_id  is_open  is_click  date  month  hour  mins  communication_type  \\\n",
       "0    14051        0         0     1      9    19    55                   3   \n",
       "1   134438        0         0     2     11    12    53                   3   \n",
       "2   181789        0         0    24      7    15    15                   4   \n",
       "3   231448        0         0     5      9    11    36                   5   \n",
       "4   185580        0         0     1      7    18     1                   3   \n",
       "\n",
       "   total_links  no_of_internal_links  no_of_images  no_of_sections  \\\n",
       "0         88.0                  79.0          13.0             4.0   \n",
       "1         67.0                  62.0          10.0             4.0   \n",
       "2          7.0                   3.0           1.0             1.0   \n",
       "3         60.0                  56.0          19.0             6.0   \n",
       "4         67.0                  61.0          12.0             3.0   \n",
       "\n",
       "   count_sent  count_word  count_unique_word  count_letters  \\\n",
       "0         1.0        12.0               12.0           88.0   \n",
       "1         1.0        16.0               16.0          111.0   \n",
       "2         1.0        12.0               12.0           71.0   \n",
       "3         1.0        10.0               10.0           73.0   \n",
       "4         1.0        11.0               11.0           55.0   \n",
       "\n",
       "   count_punctuations  count_stopwords  mean_word_len  word_unique_percent  \\\n",
       "0                 5.0              2.0       6.416667                100.0   \n",
       "1                 5.0              3.0       6.000000                100.0   \n",
       "2                 3.0              1.0       5.000000                100.0   \n",
       "3                 3.0              2.0       6.400000                100.0   \n",
       "4                 2.0              3.0       4.090909                100.0   \n",
       "\n",
       "   punct_percent  email_count_word  email_count_unique_word  \\\n",
       "0      41.666667             238.0                    159.0   \n",
       "1      31.250000             166.0                    122.0   \n",
       "2      25.000000             118.0                     92.0   \n",
       "3      30.000000              43.0                     38.0   \n",
       "4      18.181818             243.0                    176.0   \n",
       "\n",
       "   email_count_letters  email_count_punctuations  email_cap_count  \\\n",
       "0               1382.0                      37.0             58.0   \n",
       "1                971.0                      24.0             48.0   \n",
       "2                739.0                      28.0             42.0   \n",
       "3                273.0                       9.0              9.0   \n",
       "4               1498.0                      37.0             35.0   \n",
       "\n",
       "   day_of_week  count_click  count_user  click_confidence  count_is_open  \\\n",
       "0            4          0.0         9.0               0.0            0.0   \n",
       "1            3          0.0         4.0               0.0            0.0   \n",
       "2            0          0.0         7.0               0.0            0.0   \n",
       "3            1          0.0         6.0               0.0            0.0   \n",
       "4            5          0.0         5.0               0.0            0.0   \n",
       "\n",
       "   is_open_confidence  email_3_similar  sub_3_similar  campaign_id  \\\n",
       "0                 0.0              0.0            2.0           42   \n",
       "1                 0.0              1.0            2.0           52   \n",
       "2                 0.0              1.0            1.0           33   \n",
       "3                 0.0              1.0            1.0           44   \n",
       "4                 0.0              0.0            1.0           29   \n",
       "\n",
       "   sub_period  comm_type_click_percent  body_polarity  title_polarity  \\\n",
       "0         247                 12.70333       0.278346        0.462500   \n",
       "1         150                 12.70333       0.071053        0.170455   \n",
       "2         249                 14.27746       0.408333        0.000000   \n",
       "3         216                 13.02976       0.166667        0.000000   \n",
       "4         220                 12.70333       0.390083        0.000000   \n",
       "\n",
       "   body_subjectivity  title_subjectivity  \n",
       "0           0.644388            0.650000  \n",
       "1           0.376754            0.454545  \n",
       "2           0.579365            0.000000  \n",
       "3           0.766667            0.000000  \n",
       "4           0.588671            0.000000  "
      ]
     },
     "execution_count": 2,
     "metadata": {},
     "output_type": "execute_result"
    }
   ],
   "source": [
    "train = pd.read_csv('input/train_featv3.csv')\n",
    "test = pd.read_csv('input/test_featv3.csv')\n",
    "train.head()"
   ]
  },
  {
   "cell_type": "code",
   "execution_count": 3,
   "metadata": {},
   "outputs": [
    {
     "data": {
      "text/plain": [
       "Index(['user_id', 'is_open', 'is_click', 'date', 'month', 'hour', 'mins',\n",
       "       'communication_type', 'total_links', 'no_of_internal_links',\n",
       "       'no_of_images', 'no_of_sections', 'count_sent', 'count_word',\n",
       "       'count_unique_word', 'count_letters', 'count_punctuations',\n",
       "       'count_stopwords', 'mean_word_len', 'word_unique_percent',\n",
       "       'punct_percent', 'email_count_word', 'email_count_unique_word',\n",
       "       'email_count_letters', 'email_count_punctuations', 'email_cap_count',\n",
       "       'day_of_week', 'count_click', 'count_user', 'click_confidence',\n",
       "       'count_is_open', 'is_open_confidence', 'email_3_similar',\n",
       "       'sub_3_similar', 'campaign_id', 'sub_period', 'comm_type_click_percent',\n",
       "       'body_polarity', 'title_polarity', 'body_subjectivity',\n",
       "       'title_subjectivity'],\n",
       "      dtype='object')"
      ]
     },
     "execution_count": 3,
     "metadata": {},
     "output_type": "execute_result"
    }
   ],
   "source": [
    "train.columns"
   ]
  },
  {
   "cell_type": "markdown",
   "metadata": {},
   "source": [
    "## Feature Engineering"
   ]
  },
  {
   "cell_type": "markdown",
   "metadata": {},
   "source": [
    "- Date \n",
    "- Time (in minutes)\n",
    "- Day of Week\n",
    "- Communication Type\n",
    "- Total Links\n",
    "- No of Internal Links, No of Images\n",
    "- Subject - Count of Sentences, Letters, Punctuations and Stopwords\n",
    "- Subject - Unique Word Percentage\n",
    "- Subject - Punctuation Percentage\n",
    "- Email - Count of Word, Punctuation and Capital Letters\n",
    "- Count Click\n",
    "- Count User\n",
    "- Click Confidence\n",
    "- Count of People Opening the Mail\n",
    "- Open Confidence\n",
    "- Email Similarity, Subject Similarity\n",
    "- Subscription Period\n",
    "- Communication Type Click Percentage\n",
    "- Count User Frequency\n",
    "- Sentiment of Mail"
   ]
  },
  {
   "cell_type": "code",
   "execution_count": 4,
   "metadata": {},
   "outputs": [],
   "source": [
    "train['time'] = train['hour']*60 + train['mins']\n",
    "test['time'] = test['hour']*60 + test['mins']"
   ]
  },
  {
   "cell_type": "code",
   "execution_count": 5,
   "metadata": {},
   "outputs": [],
   "source": [
    "Y_train = train['is_click'].values\n",
    "\n",
    "cols = ['user_id', 'date', 'time', 'communication_type', 'total_links',  \n",
    "        'no_of_internal_links', 'no_of_images', 'count_sent', 'count_letters', 'count_punctuations', \n",
    "        'count_stopwords', 'word_unique_percent', 'punct_percent', 'email_count_word', \n",
    "        'email_count_unique_word', 'email_count_punctuations', 'email_cap_count', 'day_of_week', \n",
    "        'count_click', 'count_user', 'click_confidence','count_is_open','is_open_confidence', \n",
    "        'body_polarity', 'title_polarity','body_subjectivity', 'title_subjectivity', \n",
    "        'email_3_similar', 'sub_3_similar', 'sub_period', 'comm_type_click_percent']\n",
    "\n",
    "X_train = train[cols]\n",
    "X_test = test[cols]"
   ]
  },
  {
   "cell_type": "markdown",
   "metadata": {},
   "source": [
    "### Fill NaN values with mean "
   ]
  },
  {
   "cell_type": "code",
   "execution_count": 6,
   "metadata": {},
   "outputs": [],
   "source": [
    "## filled new user with click confidence of mean of first users ###\n",
    "X_test['click_confidence'] = X_test['click_confidence'].fillna(0.0072169867589168555)\n",
    "X_test['is_open_confidence'] = X_test['is_open_confidence'].fillna(0.10831444590242156)\n",
    "X_test.loc[X_test['count_user'] == 0,'count_click'] = 0.0072169867589168555\n",
    "X_test.loc[X_test['count_user'] == 0,'count_is_open'] = 0.10831444590242156\n",
    "X_test.loc[X_test['count_user'] == 0,'count_user'] = 1"
   ]
  },
  {
   "cell_type": "code",
   "execution_count": 7,
   "metadata": {},
   "outputs": [],
   "source": [
    "X_train.loc[:,'count_user_freq'] = (1/X_train.loc[:,'count_user'])\n",
    "X_test.loc[:,'count_user_freq'] = (1/X_test.loc[:,'count_user'])"
   ]
  },
  {
   "cell_type": "markdown",
   "metadata": {},
   "source": [
    "### Calculate Sentiment Score from Polarity and Subjectivity Scores"
   ]
  },
  {
   "cell_type": "code",
   "execution_count": 8,
   "metadata": {},
   "outputs": [],
   "source": [
    "dropcols = ['body_polarity', 'title_polarity','body_subjectivity', 'title_subjectivity']\n",
    "X_train.loc[:,'sentiment'] = X_train.loc[:,'body_polarity'] + X_train.loc[:,'title_polarity'] + X_train.loc[:,'body_subjectivity'] + X_train.loc[:,'title_subjectivity']\n",
    "X_test.loc[:,'sentiment'] = X_test.loc[:,'body_polarity'] + X_test.loc[:,'title_polarity'] + X_test.loc[:,'body_subjectivity'] + X_test.loc[:,'title_subjectivity']\n",
    "X_train.drop(dropcols,axis=1,inplace=True)\n",
    "X_test.drop(dropcols,axis=1,inplace=True)"
   ]
  },
  {
   "cell_type": "code",
   "execution_count": 9,
   "metadata": {
    "scrolled": true
   },
   "outputs": [
    {
     "data": {
      "text/html": [
       "<div>\n",
       "<style scoped>\n",
       "    .dataframe tbody tr th:only-of-type {\n",
       "        vertical-align: middle;\n",
       "    }\n",
       "\n",
       "    .dataframe tbody tr th {\n",
       "        vertical-align: top;\n",
       "    }\n",
       "\n",
       "    .dataframe thead th {\n",
       "        text-align: right;\n",
       "    }\n",
       "</style>\n",
       "<table border=\"1\" class=\"dataframe\">\n",
       "  <thead>\n",
       "    <tr style=\"text-align: right;\">\n",
       "      <th></th>\n",
       "      <th>user_id</th>\n",
       "      <th>date</th>\n",
       "      <th>time</th>\n",
       "      <th>communication_type</th>\n",
       "      <th>total_links</th>\n",
       "      <th>no_of_internal_links</th>\n",
       "      <th>no_of_images</th>\n",
       "      <th>count_sent</th>\n",
       "      <th>count_letters</th>\n",
       "      <th>count_punctuations</th>\n",
       "      <th>count_stopwords</th>\n",
       "      <th>word_unique_percent</th>\n",
       "      <th>punct_percent</th>\n",
       "      <th>email_count_word</th>\n",
       "      <th>email_count_unique_word</th>\n",
       "      <th>email_count_punctuations</th>\n",
       "      <th>email_cap_count</th>\n",
       "      <th>day_of_week</th>\n",
       "      <th>count_click</th>\n",
       "      <th>count_user</th>\n",
       "      <th>click_confidence</th>\n",
       "      <th>count_is_open</th>\n",
       "      <th>is_open_confidence</th>\n",
       "      <th>email_3_similar</th>\n",
       "      <th>sub_3_similar</th>\n",
       "      <th>sub_period</th>\n",
       "      <th>comm_type_click_percent</th>\n",
       "      <th>count_user_freq</th>\n",
       "      <th>sentiment</th>\n",
       "    </tr>\n",
       "  </thead>\n",
       "  <tbody>\n",
       "    <tr>\n",
       "      <th>0</th>\n",
       "      <td>14051</td>\n",
       "      <td>1</td>\n",
       "      <td>1195</td>\n",
       "      <td>3</td>\n",
       "      <td>88.0</td>\n",
       "      <td>79.0</td>\n",
       "      <td>13.0</td>\n",
       "      <td>1.0</td>\n",
       "      <td>88.0</td>\n",
       "      <td>5.0</td>\n",
       "      <td>2.0</td>\n",
       "      <td>100.0</td>\n",
       "      <td>41.666667</td>\n",
       "      <td>238.0</td>\n",
       "      <td>159.0</td>\n",
       "      <td>37.0</td>\n",
       "      <td>58.0</td>\n",
       "      <td>4</td>\n",
       "      <td>0.0</td>\n",
       "      <td>9.0</td>\n",
       "      <td>0.0</td>\n",
       "      <td>0.0</td>\n",
       "      <td>0.0</td>\n",
       "      <td>0.0</td>\n",
       "      <td>2.0</td>\n",
       "      <td>247</td>\n",
       "      <td>12.70333</td>\n",
       "      <td>0.111111</td>\n",
       "      <td>2.035234</td>\n",
       "    </tr>\n",
       "    <tr>\n",
       "      <th>1</th>\n",
       "      <td>134438</td>\n",
       "      <td>2</td>\n",
       "      <td>773</td>\n",
       "      <td>3</td>\n",
       "      <td>67.0</td>\n",
       "      <td>62.0</td>\n",
       "      <td>10.0</td>\n",
       "      <td>1.0</td>\n",
       "      <td>111.0</td>\n",
       "      <td>5.0</td>\n",
       "      <td>3.0</td>\n",
       "      <td>100.0</td>\n",
       "      <td>31.250000</td>\n",
       "      <td>166.0</td>\n",
       "      <td>122.0</td>\n",
       "      <td>24.0</td>\n",
       "      <td>48.0</td>\n",
       "      <td>3</td>\n",
       "      <td>0.0</td>\n",
       "      <td>4.0</td>\n",
       "      <td>0.0</td>\n",
       "      <td>0.0</td>\n",
       "      <td>0.0</td>\n",
       "      <td>1.0</td>\n",
       "      <td>2.0</td>\n",
       "      <td>150</td>\n",
       "      <td>12.70333</td>\n",
       "      <td>0.250000</td>\n",
       "      <td>1.072807</td>\n",
       "    </tr>\n",
       "    <tr>\n",
       "      <th>2</th>\n",
       "      <td>181789</td>\n",
       "      <td>24</td>\n",
       "      <td>915</td>\n",
       "      <td>4</td>\n",
       "      <td>7.0</td>\n",
       "      <td>3.0</td>\n",
       "      <td>1.0</td>\n",
       "      <td>1.0</td>\n",
       "      <td>71.0</td>\n",
       "      <td>3.0</td>\n",
       "      <td>1.0</td>\n",
       "      <td>100.0</td>\n",
       "      <td>25.000000</td>\n",
       "      <td>118.0</td>\n",
       "      <td>92.0</td>\n",
       "      <td>28.0</td>\n",
       "      <td>42.0</td>\n",
       "      <td>0</td>\n",
       "      <td>0.0</td>\n",
       "      <td>7.0</td>\n",
       "      <td>0.0</td>\n",
       "      <td>0.0</td>\n",
       "      <td>0.0</td>\n",
       "      <td>1.0</td>\n",
       "      <td>1.0</td>\n",
       "      <td>249</td>\n",
       "      <td>14.27746</td>\n",
       "      <td>0.142857</td>\n",
       "      <td>0.987698</td>\n",
       "    </tr>\n",
       "    <tr>\n",
       "      <th>3</th>\n",
       "      <td>231448</td>\n",
       "      <td>5</td>\n",
       "      <td>696</td>\n",
       "      <td>5</td>\n",
       "      <td>60.0</td>\n",
       "      <td>56.0</td>\n",
       "      <td>19.0</td>\n",
       "      <td>1.0</td>\n",
       "      <td>73.0</td>\n",
       "      <td>3.0</td>\n",
       "      <td>2.0</td>\n",
       "      <td>100.0</td>\n",
       "      <td>30.000000</td>\n",
       "      <td>43.0</td>\n",
       "      <td>38.0</td>\n",
       "      <td>9.0</td>\n",
       "      <td>9.0</td>\n",
       "      <td>1</td>\n",
       "      <td>0.0</td>\n",
       "      <td>6.0</td>\n",
       "      <td>0.0</td>\n",
       "      <td>0.0</td>\n",
       "      <td>0.0</td>\n",
       "      <td>1.0</td>\n",
       "      <td>1.0</td>\n",
       "      <td>216</td>\n",
       "      <td>13.02976</td>\n",
       "      <td>0.166667</td>\n",
       "      <td>0.933333</td>\n",
       "    </tr>\n",
       "    <tr>\n",
       "      <th>4</th>\n",
       "      <td>185580</td>\n",
       "      <td>1</td>\n",
       "      <td>1081</td>\n",
       "      <td>3</td>\n",
       "      <td>67.0</td>\n",
       "      <td>61.0</td>\n",
       "      <td>12.0</td>\n",
       "      <td>1.0</td>\n",
       "      <td>55.0</td>\n",
       "      <td>2.0</td>\n",
       "      <td>3.0</td>\n",
       "      <td>100.0</td>\n",
       "      <td>18.181818</td>\n",
       "      <td>243.0</td>\n",
       "      <td>176.0</td>\n",
       "      <td>37.0</td>\n",
       "      <td>35.0</td>\n",
       "      <td>5</td>\n",
       "      <td>0.0</td>\n",
       "      <td>5.0</td>\n",
       "      <td>0.0</td>\n",
       "      <td>0.0</td>\n",
       "      <td>0.0</td>\n",
       "      <td>0.0</td>\n",
       "      <td>1.0</td>\n",
       "      <td>220</td>\n",
       "      <td>12.70333</td>\n",
       "      <td>0.200000</td>\n",
       "      <td>0.978753</td>\n",
       "    </tr>\n",
       "  </tbody>\n",
       "</table>\n",
       "</div>"
      ],
      "text/plain": [
       "   user_id  date  time  communication_type  total_links  no_of_internal_links  \\\n",
       "0    14051     1  1195                   3         88.0                  79.0   \n",
       "1   134438     2   773                   3         67.0                  62.0   \n",
       "2   181789    24   915                   4          7.0                   3.0   \n",
       "3   231448     5   696                   5         60.0                  56.0   \n",
       "4   185580     1  1081                   3         67.0                  61.0   \n",
       "\n",
       "   no_of_images  count_sent  count_letters  count_punctuations  \\\n",
       "0          13.0         1.0           88.0                 5.0   \n",
       "1          10.0         1.0          111.0                 5.0   \n",
       "2           1.0         1.0           71.0                 3.0   \n",
       "3          19.0         1.0           73.0                 3.0   \n",
       "4          12.0         1.0           55.0                 2.0   \n",
       "\n",
       "   count_stopwords  word_unique_percent  punct_percent  email_count_word  \\\n",
       "0              2.0                100.0      41.666667             238.0   \n",
       "1              3.0                100.0      31.250000             166.0   \n",
       "2              1.0                100.0      25.000000             118.0   \n",
       "3              2.0                100.0      30.000000              43.0   \n",
       "4              3.0                100.0      18.181818             243.0   \n",
       "\n",
       "   email_count_unique_word  email_count_punctuations  email_cap_count  \\\n",
       "0                    159.0                      37.0             58.0   \n",
       "1                    122.0                      24.0             48.0   \n",
       "2                     92.0                      28.0             42.0   \n",
       "3                     38.0                       9.0              9.0   \n",
       "4                    176.0                      37.0             35.0   \n",
       "\n",
       "   day_of_week  count_click  count_user  click_confidence  count_is_open  \\\n",
       "0            4          0.0         9.0               0.0            0.0   \n",
       "1            3          0.0         4.0               0.0            0.0   \n",
       "2            0          0.0         7.0               0.0            0.0   \n",
       "3            1          0.0         6.0               0.0            0.0   \n",
       "4            5          0.0         5.0               0.0            0.0   \n",
       "\n",
       "   is_open_confidence  email_3_similar  sub_3_similar  sub_period  \\\n",
       "0                 0.0              0.0            2.0         247   \n",
       "1                 0.0              1.0            2.0         150   \n",
       "2                 0.0              1.0            1.0         249   \n",
       "3                 0.0              1.0            1.0         216   \n",
       "4                 0.0              0.0            1.0         220   \n",
       "\n",
       "   comm_type_click_percent  count_user_freq  sentiment  \n",
       "0                 12.70333         0.111111   2.035234  \n",
       "1                 12.70333         0.250000   1.072807  \n",
       "2                 14.27746         0.142857   0.987698  \n",
       "3                 13.02976         0.166667   0.933333  \n",
       "4                 12.70333         0.200000   0.978753  "
      ]
     },
     "execution_count": 9,
     "metadata": {},
     "output_type": "execute_result"
    }
   ],
   "source": [
    "X_train.head()"
   ]
  },
  {
   "cell_type": "markdown",
   "metadata": {},
   "source": [
    "## Under Sampling using Repeated Edited Nearest Neighbour Algorithm"
   ]
  },
  {
   "cell_type": "code",
   "execution_count": 10,
   "metadata": {
    "scrolled": true
   },
   "outputs": [
    {
     "name": "stdout",
     "output_type": "stream",
     "text": [
      "RENN\n",
      "Reduced 5.09%\n"
     ]
    }
   ],
   "source": [
    "from imblearn.under_sampling import (AllKNN, EditedNearestNeighbours, RepeatedEditedNearestNeighbours)\n",
    "\n",
    "print('RENN')\n",
    "enn = RepeatedEditedNearestNeighbours(return_indices=True)\n",
    "X_res, Y_res, idx_res = enn.fit_sample(X_train, Y_train)\n",
    "reduction_str = ('Reduced {:.2f}%'.format(100 * (1 - float(len(X_res))/len(X_train))))\n",
    "print(reduction_str)"
   ]
  },
  {
   "cell_type": "code",
   "execution_count": 11,
   "metadata": {
    "scrolled": false
   },
   "outputs": [
    {
     "name": "stdout",
     "output_type": "stream",
     "text": [
      "(971083, 29) (971083,)\n",
      "12782 12782\n"
     ]
    }
   ],
   "source": [
    "print (X_res.shape, Y_res.shape)\n",
    "print (Y_res.sum(), Y_train.sum())"
   ]
  },
  {
   "cell_type": "markdown",
   "metadata": {},
   "source": [
    "## Split Train-Validation Set"
   ]
  },
  {
   "cell_type": "code",
   "execution_count": 12,
   "metadata": {},
   "outputs": [
    {
     "name": "stdout",
     "output_type": "stream",
     "text": [
      "Train_shape: (898251, 29)\n",
      "Val_shape: (72832, 29)\n",
      "No of positives in train: 11776\n",
      "No of positives in val: 1006\n"
     ]
    }
   ],
   "source": [
    "from xgboost import XGBClassifier\n",
    "from sklearn.model_selection import train_test_split\n",
    "import lightgbm as lgb\n",
    "\n",
    "X_rs_trn, X_rs_val, Y_res_trn, Y_res_val = train_test_split(X_res, Y_res, test_size=0.075, shuffle=True\n",
    "                                                            , random_state=42)\n",
    "\n",
    "print (\"Train_shape: \" + str(X_rs_trn.shape))\n",
    "print (\"Val_shape: \" + str(X_rs_val.shape))\n",
    "print (\"No of positives in train: \" + str(Y_res_trn.sum()))\n",
    "print (\"No of positives in val: \" + str(Y_res_val.sum()))"
   ]
  },
  {
   "cell_type": "markdown",
   "metadata": {},
   "source": [
    "## Training the Model"
   ]
  },
  {
   "cell_type": "code",
   "execution_count": 13,
   "metadata": {},
   "outputs": [
    {
     "name": "stdout",
     "output_type": "stream",
     "text": [
      "Start training...\n",
      "Training until validation scores don't improve for 50 rounds.\n",
      "[25]\tvalid_0's auc: 0.979175\n",
      "[50]\tvalid_0's auc: 0.979463\n",
      "[75]\tvalid_0's auc: 0.979558\n",
      "[100]\tvalid_0's auc: 0.979609\n",
      "[125]\tvalid_0's auc: 0.97963\n",
      "[150]\tvalid_0's auc: 0.979593\n",
      "[175]\tvalid_0's auc: 0.979611\n",
      "[200]\tvalid_0's auc: 0.979645\n",
      "[225]\tvalid_0's auc: 0.979686\n",
      "[250]\tvalid_0's auc: 0.97975\n",
      "[275]\tvalid_0's auc: 0.979842\n",
      "[300]\tvalid_0's auc: 0.979814\n",
      "[325]\tvalid_0's auc: 0.979856\n",
      "[350]\tvalid_0's auc: 0.97988\n",
      "[375]\tvalid_0's auc: 0.9799\n",
      "[400]\tvalid_0's auc: 0.979901\n",
      "[425]\tvalid_0's auc: 0.97992\n",
      "[450]\tvalid_0's auc: 0.979957\n",
      "[475]\tvalid_0's auc: 0.97997\n",
      "[500]\tvalid_0's auc: 0.97997\n",
      "[525]\tvalid_0's auc: 0.97999\n",
      "[550]\tvalid_0's auc: 0.980003\n",
      "[575]\tvalid_0's auc: 0.980003\n",
      "[600]\tvalid_0's auc: 0.980003\n",
      "[625]\tvalid_0's auc: 0.980004\n",
      "[650]\tvalid_0's auc: 0.980014\n",
      "[675]\tvalid_0's auc: 0.980046\n",
      "[700]\tvalid_0's auc: 0.980056\n",
      "[725]\tvalid_0's auc: 0.98007\n",
      "[750]\tvalid_0's auc: 0.980094\n",
      "[775]\tvalid_0's auc: 0.980091\n",
      "[800]\tvalid_0's auc: 0.98011\n",
      "[825]\tvalid_0's auc: 0.980126\n",
      "[850]\tvalid_0's auc: 0.980155\n",
      "[875]\tvalid_0's auc: 0.98016\n",
      "[900]\tvalid_0's auc: 0.980174\n",
      "[925]\tvalid_0's auc: 0.980188\n",
      "[950]\tvalid_0's auc: 0.9802\n",
      "[975]\tvalid_0's auc: 0.980187\n",
      "Early stopping, best iteration is:\n",
      "[949]\tvalid_0's auc: 0.980203\n"
     ]
    }
   ],
   "source": [
    "lgb_train = lgb.Dataset(X_rs_trn, Y_res_trn)\n",
    "lgb_eval = lgb.Dataset(X_rs_val, Y_res_val)\n",
    "evals_result = {} \n",
    "\n",
    "params = {\n",
    "    'task': 'train',\n",
    "    'boosting_type': 'dart',\n",
    "    'objective': 'binary',\n",
    "    'metric': 'auc',\n",
    "    'num_leaves': 11,\n",
    "    'learning_rate': 0.01,\n",
    "    'feature_fraction': 0.6,\n",
    "    'bagging_fraction': 0.6,\n",
    "    'bagging_freq': 5,\n",
    "}\n",
    "\n",
    "print('Start training...')\n",
    "\n",
    "gbm = lgb.train(params, lgb_train, num_boost_round=5000, valid_sets=lgb_eval, early_stopping_rounds=50, \n",
    "                evals_result=evals_result, verbose_eval=25)"
   ]
  },
  {
   "cell_type": "markdown",
   "metadata": {},
   "source": [
    "### Plot Training AUC"
   ]
  },
  {
   "cell_type": "code",
   "execution_count": 18,
   "metadata": {},
   "outputs": [
    {
     "name": "stdout",
     "output_type": "stream",
     "text": [
      "Plot metrics during training...\n"
     ]
    },
    {
     "data": {
      "image/png": "[encoded data removed]",
      "text/plain": [
       "<matplotlib.figure.Figure at 0x7ff568f387b8>"
      ]
     },
     "metadata": {},
     "output_type": "display_data"
    }
   ],
   "source": [
    "import matplotlib.pyplot as plt\n",
    "%matplotlib inline\n",
    "\n",
    "print('Plot metrics during training...')\n",
    "ax = lgb.plot_metric(evals_result, metric='auc', ylim=(0.978, 0.981), figsize=(7, 5))\n",
    "plt.show()"
   ]
  },
  {
   "cell_type": "markdown",
   "metadata": {},
   "source": [
    "### Plot Feature Importance"
   ]
  },
  {
   "cell_type": "code",
   "execution_count": 23,
   "metadata": {},
   "outputs": [
    {
     "name": "stdout",
     "output_type": "stream",
     "text": [
      "Plot feature importances...\n"
     ]
    },
    {
     "data": {
      "image/png": "[encoded data removed]",
      "text/plain": [
       "<matplotlib.figure.Figure at 0x7ff569425c18>"
      ]
     },
     "metadata": {},
     "output_type": "display_data"
    }
   ],
   "source": [
    "print('Plot feature importances...')\n",
    "ax = lgb.plot_importance(gbm, max_num_features=15, figsize=(10, 6))\n",
    "plt.show()"
   ]
  },
  {
   "cell_type": "markdown",
   "metadata": {},
   "source": [
    "## Predicting on Test Data"
   ]
  },
  {
   "cell_type": "code",
   "execution_count": 24,
   "metadata": {},
   "outputs": [
    {
     "name": "stdout",
     "output_type": "stream",
     "text": [
      "Start predicting...\n"
     ]
    }
   ],
   "source": [
    "print('Start predicting...')\n",
    "y_pred = gbm.predict(X_test, num_iteration=gbm.best_iteration)"
   ]
  },
  {
   "cell_type": "code",
   "execution_count": 25,
   "metadata": {
    "scrolled": true
   },
   "outputs": [
    {
     "data": {
      "text/html": [
       "<div>\n",
       "<style scoped>\n",
       "    .dataframe tbody tr th:only-of-type {\n",
       "        vertical-align: middle;\n",
       "    }\n",
       "\n",
       "    .dataframe tbody tr th {\n",
       "        vertical-align: top;\n",
       "    }\n",
       "\n",
       "    .dataframe thead th {\n",
       "        text-align: right;\n",
       "    }\n",
       "</style>\n",
       "<table border=\"1\" class=\"dataframe\">\n",
       "  <thead>\n",
       "    <tr style=\"text-align: right;\">\n",
       "      <th></th>\n",
       "      <th>id</th>\n",
       "      <th>is_click</th>\n",
       "    </tr>\n",
       "  </thead>\n",
       "  <tbody>\n",
       "    <tr>\n",
       "      <th>0</th>\n",
       "      <td>63_122715</td>\n",
       "      <td>0.036591</td>\n",
       "    </tr>\n",
       "    <tr>\n",
       "      <th>1</th>\n",
       "      <td>56_76206</td>\n",
       "      <td>0.036477</td>\n",
       "    </tr>\n",
       "    <tr>\n",
       "      <th>2</th>\n",
       "      <td>57_96189</td>\n",
       "      <td>0.040912</td>\n",
       "    </tr>\n",
       "    <tr>\n",
       "      <th>3</th>\n",
       "      <td>56_166917</td>\n",
       "      <td>0.036401</td>\n",
       "    </tr>\n",
       "    <tr>\n",
       "      <th>4</th>\n",
       "      <td>56_172838</td>\n",
       "      <td>0.041053</td>\n",
       "    </tr>\n",
       "  </tbody>\n",
       "</table>\n",
       "</div>"
      ],
      "text/plain": [
       "          id  is_click\n",
       "0  63_122715  0.036591\n",
       "1   56_76206  0.036477\n",
       "2   57_96189  0.040912\n",
       "3  56_166917  0.036401\n",
       "4  56_172838  0.041053"
      ]
     },
     "execution_count": 25,
     "metadata": {},
     "output_type": "execute_result"
    }
   ],
   "source": [
    "sub = pd.read_csv('input/sample_submission.csv')\n",
    "sub['is_click'] = y_pred\n",
    "sub.head()"
   ]
  },
  {
   "cell_type": "code",
   "execution_count": 26,
   "metadata": {},
   "outputs": [],
   "source": [
    "sub.to_csv('sub_lgbm.csv', index=False)"
   ]
  },
  {
   "cell_type": "markdown",
   "metadata": {},
   "source": [
    "## Output Distribution"
   ]
  },
  {
   "cell_type": "code",
   "execution_count": 27,
   "metadata": {
    "scrolled": false
   },
   "outputs": [
    {
     "data": {
      "text/html": [
       "<div>\n",
       "<style scoped>\n",
       "    .dataframe tbody tr th:only-of-type {\n",
       "        vertical-align: middle;\n",
       "    }\n",
       "\n",
       "    .dataframe tbody tr th {\n",
       "        vertical-align: top;\n",
       "    }\n",
       "\n",
       "    .dataframe thead th {\n",
       "        text-align: right;\n",
       "    }\n",
       "</style>\n",
       "<table border=\"1\" class=\"dataframe\">\n",
       "  <thead>\n",
       "    <tr style=\"text-align: right;\">\n",
       "      <th></th>\n",
       "      <th>is_click</th>\n",
       "    </tr>\n",
       "  </thead>\n",
       "  <tbody>\n",
       "    <tr>\n",
       "      <th>count</th>\n",
       "      <td>773858.000000</td>\n",
       "    </tr>\n",
       "    <tr>\n",
       "      <th>mean</th>\n",
       "      <td>0.082196</td>\n",
       "    </tr>\n",
       "    <tr>\n",
       "      <th>std</th>\n",
       "      <td>0.079803</td>\n",
       "    </tr>\n",
       "    <tr>\n",
       "      <th>min</th>\n",
       "      <td>0.036294</td>\n",
       "    </tr>\n",
       "    <tr>\n",
       "      <th>25%</th>\n",
       "      <td>0.036402</td>\n",
       "    </tr>\n",
       "    <tr>\n",
       "      <th>50%</th>\n",
       "      <td>0.036774</td>\n",
       "    </tr>\n",
       "    <tr>\n",
       "      <th>75%</th>\n",
       "      <td>0.152516</td>\n",
       "    </tr>\n",
       "    <tr>\n",
       "      <th>max</th>\n",
       "      <td>0.844872</td>\n",
       "    </tr>\n",
       "  </tbody>\n",
       "</table>\n",
       "</div>"
      ],
      "text/plain": [
       "            is_click\n",
       "count  773858.000000\n",
       "mean        0.082196\n",
       "std         0.079803\n",
       "min         0.036294\n",
       "25%         0.036402\n",
       "50%         0.036774\n",
       "75%         0.152516\n",
       "max         0.844872"
      ]
     },
     "execution_count": 27,
     "metadata": {},
     "output_type": "execute_result"
    }
   ],
   "source": [
    "sub.describe()"
   ]
  },
  {
   "cell_type": "code",
   "execution_count": 31,
   "metadata": {
    "scrolled": false
   },
   "outputs": [
    {
     "data": {
      "text/plain": [
       "<matplotlib.axes._subplots.AxesSubplot at 0x7ff54809a390>"
      ]
     },
     "execution_count": 31,
     "metadata": {},
     "output_type": "execute_result"
    },
    {
     "data": {
      "image/png": "[encoded data removed]",
      "text/plain": [
       "<matplotlib.figure.Figure at 0x7ff54809a9e8>"
      ]
     },
     "metadata": {},
     "output_type": "display_data"
    }
   ],
   "source": [
    "import seaborn as sns\n",
    "\n",
    "plt.figure(figsize=(12, 5))\n",
    "sns.distplot(sub['is_click'], kde = False)"
   ]
  },
  {
   "cell_type": "markdown",
   "metadata": {},
   "source": [
    "## AV Leaderboard Score - 0.68173"
   ]
  },
  {
   "cell_type": "markdown",
   "metadata": {},
   "source": [
    "## Final Solution is an ensemble of LightGBM and XGBoost\n",
    "### Final Score - 0.68799"
   ]
  },
  {
   "cell_type": "markdown",
   "metadata": {},
   "source": [
    "## Private LB - 0.68630"
   ]
  }
 ],
 "metadata": {
  "kernelspec": {
   "display_name": "Python 3",
   "language": "python",
   "name": "python3"
  },
  "language_info": {
   "codemirror_mode": {
    "name": "ipython",
    "version": 3
   },
   "file_extension": ".py",
   "mimetype": "text/x-python",
   "name": "python",
   "nbconvert_exporter": "python",
   "pygments_lexer": "ipython3",
   "version": "3.6.3"
  }
 },
 "nbformat": 4,
 "nbformat_minor": 2
}
